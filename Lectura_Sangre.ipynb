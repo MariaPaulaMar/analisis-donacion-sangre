{
  "cells": [
    {
      "cell_type": "markdown",
      "metadata": {
        "id": "view-in-github",
        "colab_type": "text"
      },
      "source": [
        "<a href=\"https://colab.research.google.com/github/MariaPaulaMar/analisis-donacion-sangre/blob/main/Lectura_Sangre.ipynb\" target=\"_parent\"><img src=\"https://colab.research.google.com/assets/colab-badge.svg\" alt=\"Open In Colab\"/></a>"
      ]
    },
    {
      "cell_type": "markdown",
      "metadata": {
        "id": "47hixA4RC5R2"
      },
      "source": [
        "# Dar vida: predecir las donaciones de sangre\n"
      ]
    },
    {
      "cell_type": "markdown",
      "metadata": {
        "id": "xPPiX9vYDHG9"
      },
      "source": [
        "Dar vida parece ser imposible, pero no es así. Todos en el mundo tenemos la oportunidad de hacerlo, donar sangre es una opción. Al día son millones las personas que esperan algunos litros de sangre para salvar su vida. La alta demanda de sangre exige que la recolección sea de una manera amplia. Hoy en día la única manera de obtener este líquido vital es a través de la donación de las personas. Se requiere de un número significativo de donantes para cubrir esta necesidad. Sin embargo, no es suficiente con esto, es importante que las personas que han donado sigan ejerciendo esta práctica.\n",
        "\n",
        "En este proyecto, se trabajará con datos recopilados de la base de datos de donantes del Centro de servicios de transfusión de sangre en la ciudad de Hsin-Chu en Taiwán. El centro pasa su autobús de servicio de transfusión de sangre a una universidad en la ciudad para recolectar la sangre donada aproximadamente cada tres meses. El conjunto de datos, obtenido del repositorio de aprendizaje automático de UCI, consta de una muestra aleatoria de 748 donantes. El objetivo será predecir si una persona donará dentro de un período de tiempo determinado."
      ]
    },
    {
      "cell_type": "markdown",
      "metadata": {
        "id": "jGtVd825DNEF"
      },
      "source": [
        "Para empezar con el desarrollo del proyecto se importarán las siguientes librerías:\n",
        "*   **Pandas:** Librería empleada para manejar DataFrame y manipulación de datos. Se importa usualmente con el alias pd de la siguiente manera: `import pandas as pd `\n",
        "*   **Numpy:** Librería usada para manipular arreglos. Se importa usualmente con el alias np de la siguiente manera: `import numpy as np`\n",
        "*   **Matplotlib:** Librería para realizar gráficos, en particular usaremos el método pyplot que facilita la creación de estos. Se importa usualmente con el alias plot de la siguiente manera: `import matplotlib.pyplot as plot`\n",
        "*   **Seaborn:** Librería para realizar gráficos estadísticos y visualización de datos. Se importa usualmente con el alias sbn de la siguiente manera: `import seaborn as sbn`\n",
        "\n"
      ]
    },
    {
      "cell_type": "code",
      "execution_count": null,
      "metadata": {
        "id": "9naaq7ia481e"
      },
      "outputs": [],
      "source": [
        "# Dependencias Generales\n",
        "import numpy as np \n",
        "import pandas as pd\n",
        "import matplotlib.pyplot as plot\n",
        "import seaborn as sns"
      ]
    },
    {
      "cell_type": "markdown",
      "metadata": {
        "id": "sv6KV-iIEFG8"
      },
      "source": [
        "La lectura del archivo se realizará con el comando: \n",
        "\n",
        "```\n",
        "pd.read_cvs(\"Nombre de mi archivo csv.csv\")\n",
        "```\n",
        "El *pd* es el alias que se le asigna a la librería pandas. *read_csv* es el método que permite la lectura del archivo.\n",
        "\n"
      ]
    },
    {
      "cell_type": "code",
      "execution_count": null,
      "metadata": {
        "id": "qxKVlmRy5MK1"
      },
      "outputs": [],
      "source": [
        "# Se obtiene el archivo del repositorio.\n",
        "url=\"https://raw.githubusercontent.com/Raspiani/Give-Life-Predict-Blood-Donations/master/datasets/transfusion.data\" \n",
        "# Lectura del DataFrame.\n",
        "data = pd.read_csv(url,lineterminator='\\r')"
      ]
    },
    {
      "cell_type": "code",
      "source": [
        "data.head()\n"
      ],
      "metadata": {
        "colab": {
          "base_uri": "https://localhost:8080/",
          "height": 206
        },
        "id": "7XMLp6ljer-W",
        "outputId": "51cf97c6-4d2b-4b72-cee9-ea2432f323ff"
      },
      "execution_count": null,
      "outputs": [
        {
          "output_type": "execute_result",
          "data": {
            "text/plain": [
              "   Recency (months)  Frequency (times)  Monetary (c.c. blood)  Time (months)  \\\n",
              "0                 2                 50                  12500             98   \n",
              "1                 0                 13                   3250             28   \n",
              "2                 1                 16                   4000             35   \n",
              "3                 2                 20                   5000             45   \n",
              "4                 1                 24                   6000             77   \n",
              "\n",
              "   whether he/she donated blood in March 2007  \n",
              "0                                           1  \n",
              "1                                           1  \n",
              "2                                           1  \n",
              "3                                           1  \n",
              "4                                           0  "
            ],
            "text/html": [
              "\n",
              "  <div id=\"df-d7438fc7-f2c6-4cca-8895-a417090cb8bd\">\n",
              "    <div class=\"colab-df-container\">\n",
              "      <div>\n",
              "<style scoped>\n",
              "    .dataframe tbody tr th:only-of-type {\n",
              "        vertical-align: middle;\n",
              "    }\n",
              "\n",
              "    .dataframe tbody tr th {\n",
              "        vertical-align: top;\n",
              "    }\n",
              "\n",
              "    .dataframe thead th {\n",
              "        text-align: right;\n",
              "    }\n",
              "</style>\n",
              "<table border=\"1\" class=\"dataframe\">\n",
              "  <thead>\n",
              "    <tr style=\"text-align: right;\">\n",
              "      <th></th>\n",
              "      <th>Recency (months)</th>\n",
              "      <th>Frequency (times)</th>\n",
              "      <th>Monetary (c.c. blood)</th>\n",
              "      <th>Time (months)</th>\n",
              "      <th>whether he/she donated blood in March 2007</th>\n",
              "    </tr>\n",
              "  </thead>\n",
              "  <tbody>\n",
              "    <tr>\n",
              "      <th>0</th>\n",
              "      <td>2</td>\n",
              "      <td>50</td>\n",
              "      <td>12500</td>\n",
              "      <td>98</td>\n",
              "      <td>1</td>\n",
              "    </tr>\n",
              "    <tr>\n",
              "      <th>1</th>\n",
              "      <td>0</td>\n",
              "      <td>13</td>\n",
              "      <td>3250</td>\n",
              "      <td>28</td>\n",
              "      <td>1</td>\n",
              "    </tr>\n",
              "    <tr>\n",
              "      <th>2</th>\n",
              "      <td>1</td>\n",
              "      <td>16</td>\n",
              "      <td>4000</td>\n",
              "      <td>35</td>\n",
              "      <td>1</td>\n",
              "    </tr>\n",
              "    <tr>\n",
              "      <th>3</th>\n",
              "      <td>2</td>\n",
              "      <td>20</td>\n",
              "      <td>5000</td>\n",
              "      <td>45</td>\n",
              "      <td>1</td>\n",
              "    </tr>\n",
              "    <tr>\n",
              "      <th>4</th>\n",
              "      <td>1</td>\n",
              "      <td>24</td>\n",
              "      <td>6000</td>\n",
              "      <td>77</td>\n",
              "      <td>0</td>\n",
              "    </tr>\n",
              "  </tbody>\n",
              "</table>\n",
              "</div>\n",
              "      <button class=\"colab-df-convert\" onclick=\"convertToInteractive('df-d7438fc7-f2c6-4cca-8895-a417090cb8bd')\"\n",
              "              title=\"Convert this dataframe to an interactive table.\"\n",
              "              style=\"display:none;\">\n",
              "        \n",
              "  <svg xmlns=\"http://www.w3.org/2000/svg\" height=\"24px\"viewBox=\"0 0 24 24\"\n",
              "       width=\"24px\">\n",
              "    <path d=\"M0 0h24v24H0V0z\" fill=\"none\"/>\n",
              "    <path d=\"M18.56 5.44l.94 2.06.94-2.06 2.06-.94-2.06-.94-.94-2.06-.94 2.06-2.06.94zm-11 1L8.5 8.5l.94-2.06 2.06-.94-2.06-.94L8.5 2.5l-.94 2.06-2.06.94zm10 10l.94 2.06.94-2.06 2.06-.94-2.06-.94-.94-2.06-.94 2.06-2.06.94z\"/><path d=\"M17.41 7.96l-1.37-1.37c-.4-.4-.92-.59-1.43-.59-.52 0-1.04.2-1.43.59L10.3 9.45l-7.72 7.72c-.78.78-.78 2.05 0 2.83L4 21.41c.39.39.9.59 1.41.59.51 0 1.02-.2 1.41-.59l7.78-7.78 2.81-2.81c.8-.78.8-2.07 0-2.86zM5.41 20L4 18.59l7.72-7.72 1.47 1.35L5.41 20z\"/>\n",
              "  </svg>\n",
              "      </button>\n",
              "      \n",
              "  <style>\n",
              "    .colab-df-container {\n",
              "      display:flex;\n",
              "      flex-wrap:wrap;\n",
              "      gap: 12px;\n",
              "    }\n",
              "\n",
              "    .colab-df-convert {\n",
              "      background-color: #E8F0FE;\n",
              "      border: none;\n",
              "      border-radius: 50%;\n",
              "      cursor: pointer;\n",
              "      display: none;\n",
              "      fill: #1967D2;\n",
              "      height: 32px;\n",
              "      padding: 0 0 0 0;\n",
              "      width: 32px;\n",
              "    }\n",
              "\n",
              "    .colab-df-convert:hover {\n",
              "      background-color: #E2EBFA;\n",
              "      box-shadow: 0px 1px 2px rgba(60, 64, 67, 0.3), 0px 1px 3px 1px rgba(60, 64, 67, 0.15);\n",
              "      fill: #174EA6;\n",
              "    }\n",
              "\n",
              "    [theme=dark] .colab-df-convert {\n",
              "      background-color: #3B4455;\n",
              "      fill: #D2E3FC;\n",
              "    }\n",
              "\n",
              "    [theme=dark] .colab-df-convert:hover {\n",
              "      background-color: #434B5C;\n",
              "      box-shadow: 0px 1px 3px 1px rgba(0, 0, 0, 0.15);\n",
              "      filter: drop-shadow(0px 1px 2px rgba(0, 0, 0, 0.3));\n",
              "      fill: #FFFFFF;\n",
              "    }\n",
              "  </style>\n",
              "\n",
              "      <script>\n",
              "        const buttonEl =\n",
              "          document.querySelector('#df-d7438fc7-f2c6-4cca-8895-a417090cb8bd button.colab-df-convert');\n",
              "        buttonEl.style.display =\n",
              "          google.colab.kernel.accessAllowed ? 'block' : 'none';\n",
              "\n",
              "        async function convertToInteractive(key) {\n",
              "          const element = document.querySelector('#df-d7438fc7-f2c6-4cca-8895-a417090cb8bd');\n",
              "          const dataTable =\n",
              "            await google.colab.kernel.invokeFunction('convertToInteractive',\n",
              "                                                     [key], {});\n",
              "          if (!dataTable) return;\n",
              "\n",
              "          const docLinkHtml = 'Like what you see? Visit the ' +\n",
              "            '<a target=\"_blank\" href=https://colab.research.google.com/notebooks/data_table.ipynb>data table notebook</a>'\n",
              "            + ' to learn more about interactive tables.';\n",
              "          element.innerHTML = '';\n",
              "          dataTable['output_type'] = 'display_data';\n",
              "          await google.colab.output.renderOutput(dataTable, element);\n",
              "          const docLink = document.createElement('div');\n",
              "          docLink.innerHTML = docLinkHtml;\n",
              "          element.appendChild(docLink);\n",
              "        }\n",
              "      </script>\n",
              "    </div>\n",
              "  </div>\n",
              "  "
            ]
          },
          "metadata": {},
          "execution_count": 3
        }
      ]
    },
    {
      "cell_type": "markdown",
      "metadata": {
        "id": "1zWlN0Qm9LC1"
      },
      "source": [
        "##Análisis Variables\n",
        "\n",
        "\n"
      ]
    },
    {
      "cell_type": "markdown",
      "metadata": {
        "id": "skHhEPl_FK7D"
      },
      "source": [
        "El estudio de la base de datos hará uso de una variación del modelo RFM. Es usado en el marketing para:\n",
        "\n",
        "1.   Aumentar la cifra de ingresos de la marca.\n",
        "2.   Realizar segmentación de clientes como técnica para conocer su comportamiento.\n",
        "3.   Concretar quienes son los mejores clientes.\n",
        "4.   Conocer la tasa de abandono.\n",
        "\n",
        "Este realiza una segmentación de los clientes teniendo en cuenta las variables RFM:\n",
        "\n",
        "\n",
        "* **Recencia:**  ¿Cuándo fue la última vez qué el cliente hizo una compra?\n",
        "*  **Frecuencia:** Define el número de interacciones del cliente con la marca en un período determinado de tiempo.\n",
        "*  **Valor monetario:** Refleja la cantidad que se ha gastado el cliente en las compras.\n",
        "\n",
        "De modo que aquí tendremos el modelo aplicado y variado de la siguiente manera:\n",
        "\n",
        "\n",
        "1.   Los clientes serán los donantes.\n",
        "2.   Segmentar los donates para ver el compartimiento respecto a su próxima donación.\n",
        "3.   Preguntar: ¿cuándo fue la última vez que el donante hizo su última donación?\n",
        "  *   Primera variable R (Recency): Meses desde la última donación.\n",
        "4.   Analizar la cantidad de veces que ha interactuado con las campañas.\n",
        "  *  Segunda varaible F (Frecuencia): Número total de donaciones.\n",
        "5.   Calcular la cantidad de sangre que ha donado en total. \n",
        "  *  Tercera variable M (Monetario): Total de sangre donada en cc.\n",
        "6.  Verificar el tiempo (meses) transcurridos desde su primera donación.\n",
        "  *  Cuarta variable T (Tiempo): Meses desde la primera donación.\n",
        "7.   Realizar una predicción con base a la segmetación de los datos y las variables anteriormente mencionadas.\n",
        "  *  Quinta Variable P (Predicción): Variable booleana a estudiar. \n",
        "        *   1 si la persona donó sangre en marzo del 2007.\n",
        "        *   0 si la persona no donó sangre en marzo del 2007."
      ]
    },
    {
      "cell_type": "markdown",
      "metadata": {
        "id": "IceJ7x0hJ-N8"
      },
      "source": [
        "Con el comando *data.info( )* se obtendrá información sobre la base de datos."
      ]
    },
    {
      "cell_type": "code",
      "execution_count": null,
      "metadata": {
        "colab": {
          "base_uri": "https://localhost:8080/"
        },
        "id": "zpMn59j789T9",
        "outputId": "0b8835d9-a5c4-4938-fe16-acf9bf40b630"
      },
      "outputs": [
        {
          "output_type": "stream",
          "name": "stdout",
          "text": [
            "<class 'pandas.core.frame.DataFrame'>\n",
            "RangeIndex: 748 entries, 0 to 747\n",
            "Data columns (total 5 columns):\n",
            " #   Column                                      Non-Null Count  Dtype\n",
            "---  ------                                      --------------  -----\n",
            " 0   Recency (months)                            748 non-null    int64\n",
            " 1   Frequency (times)                           748 non-null    int64\n",
            " 2   Monetary (c.c. blood)                       748 non-null    int64\n",
            " 3   Time (months)                               748 non-null    int64\n",
            " 4   whether he/she donated blood in March 2007  748 non-null    int64\n",
            "dtypes: int64(5)\n",
            "memory usage: 29.3 KB\n"
          ]
        }
      ],
      "source": [
        "data.info()"
      ]
    },
    {
      "cell_type": "markdown",
      "metadata": {
        "id": "dfRAau2hJuVE"
      },
      "source": [
        "Las variables son todas de tipo entero. Sin embargo, la última variable debe ser de tipo booleana. Debe interpretarse y analizarse como un atributo cualitativo asimétrico: 1 si donó sangre, 0 si no.\n",
        "\n",
        "Para corregir esto se emplea el siguiente comando:\n",
        "\n",
        "```\n",
        "data['variable que deseo cambiar'] = data['variable que deseo cambiar'].astype('el tipo que quiero que sea')\n",
        "```\n",
        "entonces el *data[ ' ' ].* indicará la columna a modificar. El método  *astype* ejecuta el cambio de tipo de dato.\n",
        "\n",
        "\n",
        "\n",
        " \n",
        "\n",
        "\n"
      ]
    },
    {
      "cell_type": "code",
      "execution_count": null,
      "metadata": {
        "id": "K4QIey1m1VSO"
      },
      "outputs": [],
      "source": [
        "data['whether he/she donated blood in March 2007'] = data['whether he/she donated blood in March 2007'].astype('boolean')"
      ]
    },
    {
      "cell_type": "code",
      "execution_count": null,
      "metadata": {
        "colab": {
          "base_uri": "https://localhost:8080/"
        },
        "id": "ZsnoTqhP6NR4",
        "outputId": "3bc6392f-81a4-43bc-dca2-2b3d1f7a0cdd"
      },
      "outputs": [
        {
          "output_type": "stream",
          "name": "stdout",
          "text": [
            "<class 'pandas.core.frame.DataFrame'>\n",
            "RangeIndex: 748 entries, 0 to 747\n",
            "Data columns (total 5 columns):\n",
            " #   Column                                      Non-Null Count  Dtype  \n",
            "---  ------                                      --------------  -----  \n",
            " 0   Recency (months)                            748 non-null    int64  \n",
            " 1   Frequency (times)                           748 non-null    int64  \n",
            " 2   Monetary (c.c. blood)                       748 non-null    int64  \n",
            " 3   Time (months)                               748 non-null    int64  \n",
            " 4   whether he/she donated blood in March 2007  748 non-null    boolean\n",
            "dtypes: boolean(1), int64(4)\n",
            "memory usage: 25.0 KB\n"
          ]
        }
      ],
      "source": [
        "data.info()"
      ]
    },
    {
      "cell_type": "markdown",
      "metadata": {
        "id": "WNXaCeZs9fvN"
      },
      "source": [
        "##Renombrar las columnas del DataFrame\n",
        "\n"
      ]
    },
    {
      "cell_type": "markdown",
      "source": [
        "El método *rename* permite renombrar las columnas del *DataFrame* mediante un diccionario. La llave indica el nombre predeterminado de las columnnas; y el valor, su nueva asignación."
      ],
      "metadata": {
        "id": "olFAMTLplRJW"
      }
    },
    {
      "cell_type": "code",
      "execution_count": null,
      "metadata": {
        "id": "jaecnuhg9laV"
      },
      "outputs": [],
      "source": [
        "data.rename(\n",
        "    columns={'Recency (months)':'Recency',\n",
        "             'Frequency (times)':'Frequency',\n",
        "             'Monetary (c.c. blood)': 'Monetary', \n",
        "             'Time (months)' : 'Time',\n",
        "             'whether he/she donated blood in March 2007': 'Donated'},\n",
        "    inplace=True)"
      ]
    },
    {
      "cell_type": "code",
      "execution_count": null,
      "metadata": {
        "colab": {
          "base_uri": "https://localhost:8080/"
        },
        "id": "bdqDRlzl5-ba",
        "outputId": "1e909be3-f1f0-4301-e9d3-d03a6aa6b4e6"
      },
      "outputs": [
        {
          "output_type": "execute_result",
          "data": {
            "text/plain": [
              "     Recency  Frequency  Monetary  Time  Donated\n",
              "0          2         50     12500    98     True\n",
              "1          0         13      3250    28     True\n",
              "2          1         16      4000    35     True\n",
              "3          2         20      5000    45     True\n",
              "4          1         24      6000    77    False\n",
              "..       ...        ...       ...   ...      ...\n",
              "743       23          2       500    38    False\n",
              "744       21          2       500    52    False\n",
              "745       23          3       750    62    False\n",
              "746       39          1       250    39    False\n",
              "747       72          1       250    72    False\n",
              "\n",
              "[748 rows x 5 columns]"
            ],
            "text/html": [
              "\n",
              "  <div id=\"df-e4df9230-0b23-4354-832e-67cce4959c91\">\n",
              "    <div class=\"colab-df-container\">\n",
              "      <div>\n",
              "<style scoped>\n",
              "    .dataframe tbody tr th:only-of-type {\n",
              "        vertical-align: middle;\n",
              "    }\n",
              "\n",
              "    .dataframe tbody tr th {\n",
              "        vertical-align: top;\n",
              "    }\n",
              "\n",
              "    .dataframe thead th {\n",
              "        text-align: right;\n",
              "    }\n",
              "</style>\n",
              "<table border=\"1\" class=\"dataframe\">\n",
              "  <thead>\n",
              "    <tr style=\"text-align: right;\">\n",
              "      <th></th>\n",
              "      <th>Recency</th>\n",
              "      <th>Frequency</th>\n",
              "      <th>Monetary</th>\n",
              "      <th>Time</th>\n",
              "      <th>Donated</th>\n",
              "    </tr>\n",
              "  </thead>\n",
              "  <tbody>\n",
              "    <tr>\n",
              "      <th>0</th>\n",
              "      <td>2</td>\n",
              "      <td>50</td>\n",
              "      <td>12500</td>\n",
              "      <td>98</td>\n",
              "      <td>True</td>\n",
              "    </tr>\n",
              "    <tr>\n",
              "      <th>1</th>\n",
              "      <td>0</td>\n",
              "      <td>13</td>\n",
              "      <td>3250</td>\n",
              "      <td>28</td>\n",
              "      <td>True</td>\n",
              "    </tr>\n",
              "    <tr>\n",
              "      <th>2</th>\n",
              "      <td>1</td>\n",
              "      <td>16</td>\n",
              "      <td>4000</td>\n",
              "      <td>35</td>\n",
              "      <td>True</td>\n",
              "    </tr>\n",
              "    <tr>\n",
              "      <th>3</th>\n",
              "      <td>2</td>\n",
              "      <td>20</td>\n",
              "      <td>5000</td>\n",
              "      <td>45</td>\n",
              "      <td>True</td>\n",
              "    </tr>\n",
              "    <tr>\n",
              "      <th>4</th>\n",
              "      <td>1</td>\n",
              "      <td>24</td>\n",
              "      <td>6000</td>\n",
              "      <td>77</td>\n",
              "      <td>False</td>\n",
              "    </tr>\n",
              "    <tr>\n",
              "      <th>...</th>\n",
              "      <td>...</td>\n",
              "      <td>...</td>\n",
              "      <td>...</td>\n",
              "      <td>...</td>\n",
              "      <td>...</td>\n",
              "    </tr>\n",
              "    <tr>\n",
              "      <th>743</th>\n",
              "      <td>23</td>\n",
              "      <td>2</td>\n",
              "      <td>500</td>\n",
              "      <td>38</td>\n",
              "      <td>False</td>\n",
              "    </tr>\n",
              "    <tr>\n",
              "      <th>744</th>\n",
              "      <td>21</td>\n",
              "      <td>2</td>\n",
              "      <td>500</td>\n",
              "      <td>52</td>\n",
              "      <td>False</td>\n",
              "    </tr>\n",
              "    <tr>\n",
              "      <th>745</th>\n",
              "      <td>23</td>\n",
              "      <td>3</td>\n",
              "      <td>750</td>\n",
              "      <td>62</td>\n",
              "      <td>False</td>\n",
              "    </tr>\n",
              "    <tr>\n",
              "      <th>746</th>\n",
              "      <td>39</td>\n",
              "      <td>1</td>\n",
              "      <td>250</td>\n",
              "      <td>39</td>\n",
              "      <td>False</td>\n",
              "    </tr>\n",
              "    <tr>\n",
              "      <th>747</th>\n",
              "      <td>72</td>\n",
              "      <td>1</td>\n",
              "      <td>250</td>\n",
              "      <td>72</td>\n",
              "      <td>False</td>\n",
              "    </tr>\n",
              "  </tbody>\n",
              "</table>\n",
              "<p>748 rows × 5 columns</p>\n",
              "</div>\n",
              "      <button class=\"colab-df-convert\" onclick=\"convertToInteractive('df-e4df9230-0b23-4354-832e-67cce4959c91')\"\n",
              "              title=\"Convert this dataframe to an interactive table.\"\n",
              "              style=\"display:none;\">\n",
              "        \n",
              "  <svg xmlns=\"http://www.w3.org/2000/svg\" height=\"24px\"viewBox=\"0 0 24 24\"\n",
              "       width=\"24px\">\n",
              "    <path d=\"M0 0h24v24H0V0z\" fill=\"none\"/>\n",
              "    <path d=\"M18.56 5.44l.94 2.06.94-2.06 2.06-.94-2.06-.94-.94-2.06-.94 2.06-2.06.94zm-11 1L8.5 8.5l.94-2.06 2.06-.94-2.06-.94L8.5 2.5l-.94 2.06-2.06.94zm10 10l.94 2.06.94-2.06 2.06-.94-2.06-.94-.94-2.06-.94 2.06-2.06.94z\"/><path d=\"M17.41 7.96l-1.37-1.37c-.4-.4-.92-.59-1.43-.59-.52 0-1.04.2-1.43.59L10.3 9.45l-7.72 7.72c-.78.78-.78 2.05 0 2.83L4 21.41c.39.39.9.59 1.41.59.51 0 1.02-.2 1.41-.59l7.78-7.78 2.81-2.81c.8-.78.8-2.07 0-2.86zM5.41 20L4 18.59l7.72-7.72 1.47 1.35L5.41 20z\"/>\n",
              "  </svg>\n",
              "      </button>\n",
              "      \n",
              "  <style>\n",
              "    .colab-df-container {\n",
              "      display:flex;\n",
              "      flex-wrap:wrap;\n",
              "      gap: 12px;\n",
              "    }\n",
              "\n",
              "    .colab-df-convert {\n",
              "      background-color: #E8F0FE;\n",
              "      border: none;\n",
              "      border-radius: 50%;\n",
              "      cursor: pointer;\n",
              "      display: none;\n",
              "      fill: #1967D2;\n",
              "      height: 32px;\n",
              "      padding: 0 0 0 0;\n",
              "      width: 32px;\n",
              "    }\n",
              "\n",
              "    .colab-df-convert:hover {\n",
              "      background-color: #E2EBFA;\n",
              "      box-shadow: 0px 1px 2px rgba(60, 64, 67, 0.3), 0px 1px 3px 1px rgba(60, 64, 67, 0.15);\n",
              "      fill: #174EA6;\n",
              "    }\n",
              "\n",
              "    [theme=dark] .colab-df-convert {\n",
              "      background-color: #3B4455;\n",
              "      fill: #D2E3FC;\n",
              "    }\n",
              "\n",
              "    [theme=dark] .colab-df-convert:hover {\n",
              "      background-color: #434B5C;\n",
              "      box-shadow: 0px 1px 3px 1px rgba(0, 0, 0, 0.15);\n",
              "      filter: drop-shadow(0px 1px 2px rgba(0, 0, 0, 0.3));\n",
              "      fill: #FFFFFF;\n",
              "    }\n",
              "  </style>\n",
              "\n",
              "      <script>\n",
              "        const buttonEl =\n",
              "          document.querySelector('#df-e4df9230-0b23-4354-832e-67cce4959c91 button.colab-df-convert');\n",
              "        buttonEl.style.display =\n",
              "          google.colab.kernel.accessAllowed ? 'block' : 'none';\n",
              "\n",
              "        async function convertToInteractive(key) {\n",
              "          const element = document.querySelector('#df-e4df9230-0b23-4354-832e-67cce4959c91');\n",
              "          const dataTable =\n",
              "            await google.colab.kernel.invokeFunction('convertToInteractive',\n",
              "                                                     [key], {});\n",
              "          if (!dataTable) return;\n",
              "\n",
              "          const docLinkHtml = 'Like what you see? Visit the ' +\n",
              "            '<a target=\"_blank\" href=https://colab.research.google.com/notebooks/data_table.ipynb>data table notebook</a>'\n",
              "            + ' to learn more about interactive tables.';\n",
              "          element.innerHTML = '';\n",
              "          dataTable['output_type'] = 'display_data';\n",
              "          await google.colab.output.renderOutput(dataTable, element);\n",
              "          const docLink = document.createElement('div');\n",
              "          docLink.innerHTML = docLinkHtml;\n",
              "          element.appendChild(docLink);\n",
              "        }\n",
              "      </script>\n",
              "    </div>\n",
              "  </div>\n",
              "  "
            ]
          },
          "metadata": {},
          "execution_count": 8
        }
      ],
      "source": [
        "data"
      ]
    },
    {
      "cell_type": "markdown",
      "source": [
        "**Integrantes:**\n",
        "*   Andrés Felipe Sandoval Salazar  20191167010\n",
        "*   Iván Javier Parra Espejo        20191167013\n",
        "*   María Paula Martínez Huertas    20191167025\n",
        "*   Yeimy Lorena Lozano Clavijo     20191167048"
      ],
      "metadata": {
        "id": "nnI6sM6fYaP7"
      }
    },
    {
      "cell_type": "markdown",
      "metadata": {
        "id": "Tgzke2i66nxV"
      },
      "source": [
        "#Estadística Descriptiva"
      ]
    },
    {
      "cell_type": "markdown",
      "metadata": {
        "id": "5teBQrKDGjuU"
      },
      "source": [
        "Se realizará un análisis de las medidas de tendecia central y de dispersión para cada una de las variables mencionadas."
      ]
    },
    {
      "cell_type": "markdown",
      "metadata": {
        "id": "4kCWIwYr7SYt"
      },
      "source": [
        "###Variable Recency"
      ]
    },
    {
      "cell_type": "markdown",
      "metadata": {
        "id": "1wGJQuUx7cWB"
      },
      "source": [
        "Para obtener una descripción estadística de la varaible Recency, se emplean los siguentes comandos:\n",
        "\n",
        "\n",
        "\n",
        "\n",
        "\n",
        " \n",
        "\n"
      ]
    },
    {
      "cell_type": "markdown",
      "source": [
        "```\n",
        "print(data[\"Recency\"].describe())\n",
        "print('median=   '+ str(data['Recency'].median()))\n",
        "print('mode=     ' + str(data['Recency'].mode()[0]))\n",
        "```\n",
        "\n",
        "Aquí el `data[ ' ' ]` es la variable que se quiere describir. \n",
        "\n",
        "El método `describe ( )` obtiene la cantidad de elementos almacenados, la media, la desviación estándar, el mínimo, los cuartiles y el máximo de los datos en la columna Recency.\n",
        "\n",
        "El método `median ( )` obtiene la mediana.\n",
        "\n",
        "El método `mode ( )[ 0 ]` obtiene la moda."
      ],
      "metadata": {
        "id": "UUX6fiHLaOCK"
      }
    },
    {
      "cell_type": "code",
      "execution_count": null,
      "metadata": {
        "colab": {
          "base_uri": "https://localhost:8080/",
          "height": 201
        },
        "id": "CnEfyII-69aE",
        "outputId": "7688de31-fed9-4b70-c55d-6933b79ecab5"
      },
      "outputs": [
        {
          "output_type": "error",
          "ename": "NameError",
          "evalue": "ignored",
          "traceback": [
            "\u001b[0;31m---------------------------------------------------------------------------\u001b[0m",
            "\u001b[0;31mNameError\u001b[0m                                 Traceback (most recent call last)",
            "\u001b[0;32m<ipython-input-1-b20b7bccaf92>\u001b[0m in \u001b[0;36m<module>\u001b[0;34m\u001b[0m\n\u001b[0;32m----> 1\u001b[0;31m \u001b[0mprint\u001b[0m\u001b[0;34m(\u001b[0m\u001b[0mdata\u001b[0m\u001b[0;34m[\u001b[0m\u001b[0;34m\"Recency\"\u001b[0m\u001b[0;34m]\u001b[0m\u001b[0;34m.\u001b[0m\u001b[0mdescribe\u001b[0m\u001b[0;34m(\u001b[0m\u001b[0;34m)\u001b[0m\u001b[0;34m)\u001b[0m\u001b[0;34m\u001b[0m\u001b[0;34m\u001b[0m\u001b[0m\n\u001b[0m\u001b[1;32m      2\u001b[0m \u001b[0mprint\u001b[0m\u001b[0;34m(\u001b[0m\u001b[0;34m'median=   '\u001b[0m\u001b[0;34m+\u001b[0m \u001b[0mstr\u001b[0m\u001b[0;34m(\u001b[0m\u001b[0mdata\u001b[0m\u001b[0;34m[\u001b[0m\u001b[0;34m'Recency'\u001b[0m\u001b[0;34m]\u001b[0m\u001b[0;34m.\u001b[0m\u001b[0mmedian\u001b[0m\u001b[0;34m(\u001b[0m\u001b[0;34m)\u001b[0m\u001b[0;34m)\u001b[0m\u001b[0;34m)\u001b[0m\u001b[0;34m\u001b[0m\u001b[0;34m\u001b[0m\u001b[0m\n\u001b[1;32m      3\u001b[0m \u001b[0mprint\u001b[0m\u001b[0;34m(\u001b[0m\u001b[0;34m'mode=     '\u001b[0m \u001b[0;34m+\u001b[0m \u001b[0mstr\u001b[0m\u001b[0;34m(\u001b[0m\u001b[0mdata\u001b[0m\u001b[0;34m[\u001b[0m\u001b[0;34m'Recency'\u001b[0m\u001b[0;34m]\u001b[0m\u001b[0;34m.\u001b[0m\u001b[0mmode\u001b[0m\u001b[0;34m(\u001b[0m\u001b[0;34m)\u001b[0m\u001b[0;34m[\u001b[0m\u001b[0;36m0\u001b[0m\u001b[0;34m]\u001b[0m\u001b[0;34m)\u001b[0m\u001b[0;34m)\u001b[0m\u001b[0;34m\u001b[0m\u001b[0;34m\u001b[0m\u001b[0m\n",
            "\u001b[0;31mNameError\u001b[0m: name 'data' is not defined"
          ]
        }
      ],
      "source": [
        "print(data[\"Recency\"].describe())\n",
        "print('median=   '+ str(data['Recency'].median()))\n",
        "print('mode=     ' + str(data['Recency'].mode()[0]))"
      ]
    },
    {
      "cell_type": "markdown",
      "source": [
        "* El tamaño de la muestra es $748$ datos no nulos.\n",
        "* El donante con menor cantidad de meses realizó su última donación hace $0$ meses y el donante con mayor cantidad de meses realizó su última donación hace $74$ meses. \n",
        "\n",
        "La distribución de la variable Recency permite ver gráficamente los siguientes datos:\n",
        "* La moda de Recency es de $2$ meses. En otras palabras la mayoría de los donantes realizó su última donación hace $2$ meses.\n",
        "* La media de Recency de los donantes es de $9.506684$. Lo que quiere decir que en promedio cada donante donó por última vez hace $9$ meses.\n",
        "* La mediana de Recency es de $7$ meses. Este valor dividirá los datos en la mitad."
      ],
      "metadata": {
        "id": "fsXm08fgAqTt"
      }
    },
    {
      "cell_type": "code",
      "source": [
        "plot.figure(figsize=(20,7.5)) #tamaño de la figura\n",
        "data['Recency'].plot.kde(label='Curva de distribución',color='black',grid=True) #Gráfica la distribución de la variable Recency.\n",
        "plot.axvline(x=data['Recency'].mean(), ymin=0, ymax=1,label='Media',color='blue') #Recta que representa la media en la distribución. \n",
        "plot.axvline(x=data['Recency'].mode()[0], ymin=0, ymax=1,label='Moda',color='red')#Recta que representa la moda en la distribución.\n",
        "plot.axvline(x=data['Recency'].median(), ymin=0, ymax=1,label='Mediana',color='green') #Recta que representa la mediana en la distribución.\n",
        "plot.title('Curva de distribución de la variable Recency')\n",
        "plot.text(data['Recency'].mean()+1,0.05,round(data['Recency'].mean(),1),color=\"blue\",fontsize=16,rotation=0) #Valor de la media.\n",
        "plot.text(data['Recency'].mode()[0]+1,0.03,data['Recency'].mode()[0],color=\"red\",fontsize=16,rotation=0) #Valor de la moda.\n",
        "plot.text(data['Recency'].median()-4,0.01,round(data['Recency'].median(),3),color=\"green\",fontsize=16,rotation=0) #Valor de la mediana.\n",
        "plot.ylabel('Densidad')\n",
        "plot.xticks(np.arange(0,76,5)) # Escala del eje x.\n",
        "plot.legend() # Recuadro de etiquetas para identificar cada elemento del gráfico.\n",
        "plot.show() # Muestra el gráfico."
      ],
      "metadata": {
        "id": "iTdht34YrO2e"
      },
      "execution_count": null,
      "outputs": []
    },
    {
      "cell_type": "markdown",
      "source": [
        "La distribución de Recency no es normal, de modo que la desviación estándar no ofrece una información asertiva respecto a la media. Sin embargo, se puede hacer el cálculo del coeficiente de variación; el cual nos dirá  porcentualmente qué tan dispersos se encuentran los datos."
      ],
      "metadata": {
        "id": "9wbO9tZtD0RN"
      }
    },
    {
      "cell_type": "code",
      "source": [
        "#data['Recency'].std() es la desviación estandar de la variable Rencency\n",
        "#data['Recency'].mean() es la media de la variable Recency\n",
        "\n",
        "#Formula del coeficiente de variación tomandolo porcentualmente\n",
        "coef_variación= (data['Recency'].std()/data['Recency'].mean())*100  \n",
        "coef_variación"
      ],
      "metadata": {
        "id": "QJ6jzuJ0EjOI"
      },
      "execution_count": null,
      "outputs": []
    },
    {
      "cell_type": "markdown",
      "source": [
        "Con un porcentaje de coeficiente de variación del $85.154\\%$ se afirma que los datos se encuentran altamente dispersos respecto a la media."
      ],
      "metadata": {
        "id": "pjsB1aOTFshA"
      }
    },
    {
      "cell_type": "markdown",
      "source": [
        "El diagrama de caja permite evidenciar la siguiente afirmación:\n",
        "* Una cuarta parte de los donantes realizó su última donación hace menos de $Q_1= 2.75$ meses. La mitad de los donantes realizó su última donación hace menos de $Q_2= 7$ meses, y la otra mitad hace más de $Q_2= 7$ meses. Por otra parte, las tres cuartas partes de los donantes donarón por última vez hace más de  $Q_3= 14$ meses."
      ],
      "metadata": {
        "id": "mTbS86g_jXhd"
      }
    },
    {
      "cell_type": "code",
      "source": [
        "plot.figure(figsize=(30,15)) #Área de impresión de la gráfica.\n",
        "plot.subplot(221)  #Ubicación del primer gráfico.\n",
        "plot.title(\"Diágrama de cajas de la variable Recency\")   #Título del gráfico.\n",
        "plot.xlabel('Cantidad de meses desde la última donación ')  #Nombre del eje x.\n",
        "plot.grid(True) # Activación de la cuadricula de medición.\n",
        "plot.xticks(np.arange(0,80,3)) # Escala del eje x.\n",
        "plot.boxplot(data['Recency'],vert=False,patch_artist=True); #Comando para hacer el diagráma de caja.\n",
        "\n",
        "\n",
        "plot.subplot(222)\n",
        "plot.title(\"Histográma de la variable Recency\")   #Título del gráfico.\n",
        "plot.ylabel('Cantidad de personas')  #Nombre del eje y.\n",
        "plot.xlabel('Cantidad de meses desde la última donación')  #Nombre del eje x.\n",
        "freq, bins, patches = plot.hist(data['Recency'], bins=range(0,75,1),\n",
        "          align='mid',\n",
        "          orientation='vertical',\n",
        "          color='green',ec='k')  #Comando para hacer el Histográma.\n",
        "\n",
        "# x coordinate for labels\n",
        "bin_centers = np.diff(bins)*0.5 + bins[:-1]\n",
        "\n",
        "n = 0\n",
        "for fr, x, patch in zip(freq, bin_centers, patches):\n",
        "    height = int(freq[n])\n",
        "    plot.annotate(\"{}\".format(height),\n",
        "                 xy = (x, height),             # Esquina superior izquierda de la barra de histograma\n",
        "                 xytext = (0,0.2),             # Desplazamiento de la posición de la etiqueta por encima de su barra\n",
        "                 textcoords = \"offset points\", # Compensación (en puntos) del valor *xy*\n",
        "                 ha = 'center', va = 'bottom')\n",
        "    n = n+1\n",
        "\n",
        "plot.xticks(np.arange(0,76,2)) # Escala del eje x.\n",
        "plot.yticks(np.arange(0,176,10)) # Escala del eje y.\n",
        "plot.grid(True) # Activación de la cuadrícula de medición."
      ],
      "metadata": {
        "id": "Nu3HuIYdfbxB"
      },
      "execution_count": null,
      "outputs": []
    },
    {
      "cell_type": "markdown",
      "source": [
        "En el diagrama de caja se observa que la media se ubica más hacia la izquierda, esto se debe a que hay una mayor concentración de donantes para esos meses. Por otra parte, después del último bigote hay unos puntos a los cuales se les denominará outlier. Estos datos son los que no se tendrán comúnmente. \n",
        "\n",
        "Comparando con el histograma se evidencia que los datos de menor frecuencia son aquellos que representan una cantidad mayor de meses.\n",
        "\n",
        "Para ver que efectivamente existen estos outliers tenemos el siguiente criterio:"
      ],
      "metadata": {
        "id": "9GsttFI8fygh"
      }
    },
    {
      "cell_type": "code",
      "execution_count": null,
      "metadata": {
        "id": "JZ-6xGoFBedT"
      },
      "outputs": [],
      "source": [
        "#se calcula el valor de los cuartiles\n",
        "Q1=data['Recency'].quantile(0.25)\n",
        "Q2=data['Recency'].quantile(0.50)\n",
        "Q3=data['Recency'].quantile(0.75)\n",
        "RI=Q3-Q1\n",
        "# Se calcula el valor del bigote superior\n",
        "BS=Q3+1.5*RI\n",
        "print('Bigote superior es: ', BS)\n",
        "# Se calcula el valor del bigote inferior\n",
        "BI=Q1-1.5*RI\n",
        "print('Bigote inferiór es: ', BI)"
      ]
    },
    {
      "cell_type": "markdown",
      "metadata": {
        "id": "G4Oy7JuBCMak"
      },
      "source": [
        "Si el valor mínimo de la variable Recency es menor que el bigote inferior entonces se presentarían outliers inferiores. En este caso el valor mínimo es $0$ meses, por lo que no existe outlier inferior y además el bigote en la gráfica tomará el valor mínimo de los datos, es decir, $0$ meses. Nótese que el bigote superior es $30.875$ pero el valor máximo es de $74$, por tanto existirán outliers superiores."
      ]
    },
    {
      "cell_type": "markdown",
      "source": [
        "Con el siguiente comando se obtiene con precisión cuales son los outliers con respecto a la variable Recency :"
      ],
      "metadata": {
        "id": "frJryDEWqVN5"
      }
    },
    {
      "cell_type": "code",
      "source": [
        "data[data['Recency']>=30.875]"
      ],
      "metadata": {
        "id": "mJH_PrfvpwIM"
      },
      "execution_count": null,
      "outputs": []
    },
    {
      "cell_type": "markdown",
      "source": [
        "##Variable Time"
      ],
      "metadata": {
        "id": "VkJ2UJnF9SvS"
      }
    },
    {
      "cell_type": "markdown",
      "source": [
        "Para realizar el análisis correspondiente a esta variable, se hará un estudio inicial de sus medidas estadísticas a través del método `.describe()`, observando que:\n",
        "+ Exiten $748$ datos no null de la variable.\n",
        "\n",
        "+ La media aritmética con respecto a count es $34.28$ meses. El valor de esta información se determinará en que tan lejos se encuentra de la mediana, o si existe la presenciencia de outliers.\n",
        "\n",
        "+ La desviación estándar del tiempo con respecto a su media es $24.37$ meses en promedio.\n",
        "\n",
        "+ El valor mínimo es de $2$ meses y el valor máximo es $98$ meses.\n",
        "\n",
        "+ Los cuartiles determinan:\n",
        " +\tEl $25\\%$ de las personas donaron por primera vez hace máximo $Q_1=16$ meses desde su primera donación.\n",
        " *El $50\\%$ de las personas donaron por primera vez hace máximo $ Q_2=28$ meses desde su primera donación.\n",
        " +   El $75\\%$ de las personas donaron por primera vez hace máximo $Q_3=50$ meses desde su primera donación.\n",
        "     \n",
        "     "
      ],
      "metadata": {
        "id": "3duNqYMj31yP"
      }
    },
    {
      "cell_type": "code",
      "source": [
        "data['Time'].describe() #describe las medidas estadísticas de la variable."
      ],
      "metadata": {
        "id": "yc7dt-aN31yQ"
      },
      "execution_count": null,
      "outputs": []
    },
    {
      "cell_type": "code",
      "source": [
        "data.head()"
      ],
      "metadata": {
        "id": "aO2RyI71KBMj"
      },
      "execution_count": null,
      "outputs": []
    },
    {
      "cell_type": "markdown",
      "source": [
        "Después de explorar el diagrama de barras y el histograma, se representará gráficamente las medidas de tendencia central haciendo uso de la curva de distribución."
      ],
      "metadata": {
        "id": "7_bfZcZS31yQ"
      }
    },
    {
      "cell_type": "markdown",
      "source": [
        "Ahora, a través del diagrama de barras se puede observar que:\n",
        "+ La moda equivale a $4$ meses con una frecuencia de $57$ personas, representando el $7.6\\%$ del total de datos.\n"
      ],
      "metadata": {
        "id": "pcvxr83d31yQ"
      }
    },
    {
      "cell_type": "code",
      "source": [
        "plot.figure(figsize=(20,7.5)) #tamaño de la figura\n",
        "splot = data['Time'].value_counts().sort_index(ascending=True).plot(kind='bar',\n",
        "                                                             fontsize = 15, \n",
        "                                                             color='pink',\n",
        "                                                             ec='black') #creación de la gráfica de barras \n",
        "for p in splot.patches: \n",
        "    splot.annotate(format(p.get_height()), \n",
        "                   (p.get_x() + p.get_width() / 2., p.get_height()), \n",
        "                   ha='center', va='center', \n",
        "                   xytext=(0, 9), \n",
        "                   textcoords='offset points') \n",
        "\n",
        "plot.xlabel('Meses') #Etiqueta del eje x\n",
        "plot.ylabel('Cantidad de personas') #Etiqueta del eje y\n",
        "plot.title('Meses trancurridos después de la primera donación ') # Título de la gráfica\n",
        "plot.grid(axis='y') #rejillas horizontales\n",
        "plot.savefig('Time.png')"
      ],
      "metadata": {
        "id": "iXXQ2YOt31yQ"
      },
      "execution_count": null,
      "outputs": []
    },
    {
      "cell_type": "markdown",
      "source": [
        "Graficando la distribución normal de la variable 'Time', se observa que:\n",
        "+ La distribución está sesgada positivamente (hacia la izquierda),  la moda $=4$ $<$ mediana $=28$ $<$ media $=34.28$.\n",
        "+La mejor medida de tendencia central para la variable Time es la mediana. Esta medida es más confiable cuando se presenta una distribución asimétrica de los datos. "
      ],
      "metadata": {
        "id": "5YtiOxih4r0U"
      }
    },
    {
      "cell_type": "code",
      "source": [
        "plot.figure(figsize=(20,7.5)) #tamaño de la figura\n",
        "data['Time'].plot.kde(label='Curva de distribución',color='black',grid=True) #se gráfica la curva de distribución.\n",
        "plot.axvline(x=data['Time'].mean(), ymin=0, ymax=1,label='Media',color='darkblue') #plot.axvline() permite gráficas de rectas verticales.\n",
        "plot.axvline(x=data['Time'].mode()[0], ymin=0, ymax=1,label='Moda',color='red')\n",
        "plot.axvline(x=data['Time'].median(), ymin=0, ymax=1,label='Mediana',color='green')\n",
        "plot.title('Curva de distribución de la variable Time')\n",
        "plot.ylabel('Densidad')\n",
        "plot.legend() #permite mostrar la tabla donde se indica que color corresponde a cada nombre de curva.\n",
        "plot.show() #permite mostrar la gráfica \n",
        "\n"
      ],
      "metadata": {
        "id": "nK5XiCJG5ndS"
      },
      "execution_count": null,
      "outputs": []
    },
    {
      "cell_type": "markdown",
      "source": [
        "La distribución de Time no es normal, de modo que la desviación estandar no ofrece una información asertiva respecto a la media. Sin embargo, con base a ella se puede hacer el cálculo del coefiente de variación; el cual dirá porcentualmente qué tan dispersos se encuentran los datos."
      ],
      "metadata": {
        "id": "ZhLRTAj894im"
      }
    },
    {
      "cell_type": "code",
      "source": [
        "#Formula del coeficiente de variación tomándolo porcentualmente\n",
        "coef_variación= (data['Time'].std()/data['Time'].mean())*100  \n",
        "coef_variación"
      ],
      "metadata": {
        "id": "p0oKA50X-HRX"
      },
      "execution_count": null,
      "outputs": []
    },
    {
      "cell_type": "markdown",
      "source": [
        "Con un coeficiente de variación del $71.11\\%$ se puede afirmar que los datos se encuentran altamente dispersos respecto a la media."
      ],
      "metadata": {
        "id": "E-53_krc-cw_"
      }
    },
    {
      "cell_type": "markdown",
      "source": [
        "Para analizar qué tan dispersos se encuentran los datos se trabajará el rango intercuartil que permitirá abarcar el $50\\%$ central de los datos.\n",
        "\n",
        "Utilizando el diagrama de cajas y bigotes se observa que:\n",
        "+ El valor mínimo es $2$ meses.\n",
        "+ Los cuartiles $Q_1$, $Q_2$ y $Q_3$ están representados por las rectas horizontales que conforman la caja respectivamente.\n",
        "+ El cuartil $Q_2$ sin el cuartil $Q_1$ representa la menor cantidad de frecuencia entre los tres cuartiles.\n",
        "\n",
        "Considerando  que  la desviación estandar es de $24.37$ meses, se tiene una varianza aproximada de $593.8969$ meses."
      ],
      "metadata": {
        "id": "_lOpWS0q31yR"
      }
    },
    {
      "cell_type": "code",
      "source": [
        "data['Time'].plot(kind=\"box\", fontsize = 15,color='red') #Se gráfica el diagrama de cajas y bigotes \n",
        "\n",
        "plot.ylabel('Meses') #Etiqueta del eje y\n",
        "plot.title('Meses trancurridos después de la primera donación ') #Título de la gráfica\n",
        "plot.grid(axis='y') #activa las rejillas horizontales \n",
        "plot.savefig('Time.png') #permite guardar la figura como Time.png"
      ],
      "metadata": {
        "id": "gxpQBTac31yR"
      },
      "execution_count": null,
      "outputs": []
    },
    {
      "cell_type": "markdown",
      "source": [
        "Con base al cálculo del bigote inferior y del bigote superior, el diagrama de cajas permitirá observar que no existe ningún outlier en la variable Time. "
      ],
      "metadata": {
        "id": "k12AcGWM31yS"
      }
    },
    {
      "cell_type": "code",
      "source": [
        "#se calcula el valor de los cuartiles\n",
        "Q1=data['Time'].quantile(0.25)\n",
        "Q2=data['Time'].quantile(0.50)\n",
        "Q3=data['Time'].quantile(0.75)\n",
        "RI=Q3-Q1\n",
        "# Se calcula el valor del bigote superior\n",
        "BS=Q3+1.5*RI\n",
        "print('Bigote superior es: ', BS)\n",
        "# Se calcula el valor del bigote inferior\n",
        "BI=Q1-1.5*RI\n",
        "print('Bigote inferiór es: ', BI)"
      ],
      "metadata": {
        "id": "yjOEnUA931yS"
      },
      "execution_count": null,
      "outputs": []
    },
    {
      "cell_type": "markdown",
      "source": [
        "Si el valor mínimo de la variable Time es menor que el bigote inferior, entonces se tendría un outlier inferior. En este caso, el valor mínimo es $2$ meses por lo que no existe outlier y además, el bigote en la gráfica tomará el valor mínimo de los datos, es decir, $2$ meses. Análogamente, el bigote superior toma  el valor máximo de la variable que es $98$ meses."
      ],
      "metadata": {
        "id": "Eil_6VC-31yS"
      }
    },
    {
      "cell_type": "markdown",
      "metadata": {
        "id": "hguWH32r3pKs"
      },
      "source": [
        "##Variable Monetary"
      ]
    },
    {
      "cell_type": "markdown",
      "metadata": {
        "id": "66VTHyCHHrvm"
      },
      "source": [
        "La variable 'Monetary' es una variable cuantitativa continua que representa la cantidad de sangre donada por una persona, haciendo uso del método `Describe()` se hará un análisis descriptivo de esta, observando que:\n",
        "\n",
        "*  La variable tiene un total de $748$ datos, ninguno vacío.\n",
        "*  La media aritmética o promedio de datos está rondeando los $1348.64cc$ (El valor de esta información está determinada por la diferencia respecto los outliers).\n",
        "*   La desviación estándar de los datos respecto a su media es de 1459.82cc.\n",
        "*   La persona con menor volúmen de sangre donada registra $250cc$, mientras que la persona que más ha donado lo ha hecho por un total de $12500cc$.\n",
        "\n",
        "Los cuartiles determinan:\n",
        "\n",
        "+ La cuarta parte de las personas ha donado a lo más $Q_1=500cc$.\n",
        "\n",
        "+ El 50% de las personas ha donado menos de $Q_2=1000cc$.\n",
        "\n",
        "+ El 75% de las personas ha donado $Q_3=1750cc$ a lo más.\n"
      ]
    },
    {
      "cell_type": "code",
      "execution_count": null,
      "metadata": {
        "id": "7ybco1oP4WnD"
      },
      "outputs": [],
      "source": [
        "data['Monetary'].describe()"
      ]
    },
    {
      "cell_type": "markdown",
      "metadata": {
        "id": "XanRJHNZ6ZC2"
      },
      "source": [
        "#### Medidas de tendencia central.\n",
        "El historgrama y líneas de distribución servirán para representar gráficamente la posición de las medidas de distribución central en el conjunto de datos. Se organiza el dataframe respecto la variable."
      ]
    },
    {
      "cell_type": "code",
      "execution_count": null,
      "metadata": {
        "id": "1j38tpba61Jn"
      },
      "outputs": [],
      "source": [
        "\n",
        "data.sort_values(by='Monetary')  #Organizar el data frame respecto la variable 'Monetary'.\n"
      ]
    },
    {
      "cell_type": "markdown",
      "metadata": {
        "id": "WNdsh1eJ9ToM"
      },
      "source": [
        "\n",
        "Para realizar el histograma se debe garantizar que cada valor tenga su respectiva representación de frecuencia. Para ello se agrupan los datos. Con esta tabla de frecuencias se podrá interpretar el histograma.\n"
      ]
    },
    {
      "cell_type": "code",
      "execution_count": null,
      "metadata": {
        "id": "3bs1cBXN9aht"
      },
      "outputs": [],
      "source": [
        "data[\"Monetary_group\"] = pd.cut(data[\"Monetary\"], bins=12)\n",
        "print((data.groupby(\"Monetary_group\").agg(frequency=(\"Monetary\", \"count\"))))"
      ]
    },
    {
      "cell_type": "markdown",
      "metadata": {
        "id": "j6_ZWj3k_no-"
      },
      "source": [
        "El resultado anterior muestra una distribución en 12 intervalos de frecuencia, dejando notar que la mayoría de datos se encuentran entre los $237.75cc$ y $1270.8cc$."
      ]
    },
    {
      "cell_type": "code",
      "execution_count": null,
      "metadata": {
        "id": "X45k8h6bBDb5"
      },
      "outputs": [],
      "source": [
        "plot.figure(figsize=(20,7.5))\n",
        "\n",
        "data['Monetary'].plot(kind=\"hist\", fontsize = 8, color='lightblue',ec='black',bins=100)\n",
        "plot.xlabel('Monetary')\n",
        "plot.ylabel('Número de personas')\n",
        "plot.title('Volumen de sangre donada')\n",
        "plot.grid(axis='y')"
      ]
    },
    {
      "cell_type": "code",
      "source": [
        "plot.figure(figsize=(10,15))\n",
        "plot.title(\"Diagrama de Cajas\") #Título del gráfico.\n",
        "plot.xlabel('Volumen de sangre donada')  #Nombre del eje x.\n",
        "plot.grid(True) # Activación de la cuadricula de medición.\n",
        "plot.xticks(np.arange(0,1500,30)) # Escala del eje x.\n",
        "plot.yticks(np.arange(0,20000,500))\n",
        "plot.boxplot(data['Monetary'],vert=True,patch_artist=True); #Comando para hacer el diagrama de caja."
      ],
      "metadata": {
        "id": "K-WkGqk-fUDn"
      },
      "execution_count": null,
      "outputs": []
    },
    {
      "cell_type": "code",
      "source": [
        "#se calcula el valor de los cuartiles\n",
        "Q1=data['Monetary'].quantile(0.25)\n",
        "Q2=data['Monetary'].quantile(0.50)\n",
        "Q3=data['Monetary'].quantile(0.75)\n",
        "RI=Q3-Q1\n",
        "# Se calcula el valor del bigote superior\n",
        "BS=Q3+1.5*RI\n",
        "print('Bigote superior es: ', BS)\n",
        "# Se calcula el valor del bigote inferior\n",
        "BI=Q1-1.5*RI\n",
        "print('Bigote inferior es: ', BI)"
      ],
      "metadata": {
        "id": "8HkX6jbgnkNC"
      },
      "execution_count": null,
      "outputs": []
    },
    {
      "cell_type": "markdown",
      "source": [
        "Los datos anteriores permiten ver que efectivamente existen outliers (superiores) en la variable. Gráficamente se ven como los puntos que están por encima del bigote superior."
      ],
      "metadata": {
        "id": "0OwDfAr_qd9f"
      }
    },
    {
      "cell_type": "markdown",
      "source": [
        "La mayoría de las personas han donado $250cc$ de sangre a lo largo de su vida.  Al ser el dato con más frecuencia, corresponde a la moda de la variable."
      ],
      "metadata": {
        "id": "5U_DQOUSq4CH"
      }
    },
    {
      "cell_type": "code",
      "execution_count": null,
      "metadata": {
        "id": "L2JlYWZ6JKa2"
      },
      "outputs": [],
      "source": [
        "k= data['Monetary'].mode()[0] #Cálculo de la moda.\n",
        "print('El valor de la moda es: ',k)"
      ]
    },
    {
      "cell_type": "markdown",
      "source": [
        "A continuación se realiza el gráfico de la curva de distribución con sus respectivas medidas de tendencia central."
      ],
      "metadata": {
        "id": "TcQsKwzCrOpT"
      }
    },
    {
      "cell_type": "code",
      "source": [
        "plot.figure(figsize=(20,7)) #tamaño de la figura\n",
        "plot.title(\"Curva de distribución de la variable Monetary\")   #Título del gráfico.\n",
        "data['Monetary'].plot.kde(label='Curva de distribución',color=\"black\",grid=True)\n",
        "plot.axvline(x=data['Monetary'].mean(), ymin=0, ymax=1,label='Media',color='darkblue') #plot.axvline() permite gráficas de rectas verticales.\n",
        "plot.axvline(x=data['Monetary'].mode()[0], ymin=0, ymax=1,label='Moda',color='red')\n",
        "plot.axvline(x=data['Monetary'].median(), ymin=0, ymax=1,label='Mediana',color='green')\n",
        "plot.text(data['Monetary'].mean(),0.0004,round(data['Monetary'].mean(),1),color=\"blue\",fontsize=16,rotation=0) #Valor de la media.\n",
        "plot.text(data['Monetary'].mode()[0]+1,0.0003,data['Monetary'].mode()[0],color=\"red\",fontsize=16,rotation=0) #Valor de la moda.\n",
        "plot.text(data['Monetary'].median()+400,0.0001,round(data['Monetary'].median(),1),color=\"green\",fontsize=16,rotation=0) #Valor de la mediana.\n",
        "plot.legend() #permite mostrar la tabla donde se indica que color corresponde a cada nombre de curva.\n",
        "plot.show()"
      ],
      "metadata": {
        "id": "ZlQh7bi-zVWb"
      },
      "execution_count": null,
      "outputs": []
    },
    {
      "cell_type": "markdown",
      "source": [
        "Se puede observar que la distribución de la variable no es normal (cuando lo es, las tres medidas de tendencia tienden a superponerse). De la gráfica se puede concluir que la mayor parte de los datos se encuentra entre los $0cc$ Y $2500cc$."
      ],
      "metadata": {
        "id": "kELMUgwfxsz3"
      }
    },
    {
      "cell_type": "markdown",
      "source": [
        "## Variable Frequency"
      ],
      "metadata": {
        "id": "r7qnq9gyymQZ"
      }
    },
    {
      "cell_type": "markdown",
      "source": [
        "La variable Frequency es una variable cuantitativa discreta de tipo float64, que describe el número total de donaciones desde la primera vez.\n",
        "\n",
        "Para realizar el análisis correspondiente a esta variable, se hará un estudio inicial de sus medidas estadísticas a través del método `describe()`."
      ],
      "metadata": {
        "id": "DE1ZpiSc2VB0"
      }
    },
    {
      "cell_type": "code",
      "source": [
        "data.Frequency.describe()"
      ],
      "metadata": {
        "id": "oF4ZN_a5yz7_"
      },
      "execution_count": null,
      "outputs": []
    },
    {
      "cell_type": "markdown",
      "source": [
        "Obteniendo los siguientes resultados:\n",
        "- La media de la variable Frequency es aproximadamente $5.5147$ donaciones desde la primera vez.\n",
        "- La desviación estándar es aproximadamente $5.8393$.\n",
        "- La persona que menos veces ha donado, lo ha hecho en una oportunidad. Mientras que la más recurrente, lo ha hecho en $50$ ocasiones.\n",
        "- Un cuarto de la población ha donado $2$ veces desde su primera donación. La mitad de la población ha donado menos de $4$ veces desde su primera donacion y por último, tres cuartas partes de la población ha donado menos de $7$ veces desde su primera donación."
      ],
      "metadata": {
        "id": "Uf3kP1R9Op4i"
      }
    },
    {
      "cell_type": "code",
      "source": [
        "m1 = data.Frequency.mode()[0] # Cálculo de la moda.\n",
        "print(\"La moda es:\", m1)\n",
        "m2 = data.Frequency.median() # Cálculo de la mediana.\n",
        "print(\"La mediana es:\", m2)"
      ],
      "metadata": {
        "id": "AIuFvyfL1mdc"
      },
      "execution_count": null,
      "outputs": []
    },
    {
      "cell_type": "markdown",
      "source": [
        "Además de las medidas de dispersión anteriormente trabajadas, se puede obtener información relevante a través de la moda indicando que las personas han donado en su mayoría una vez; y la mediana, muestra que la mitad de la población ha donado $4$ veces desde su primera donación.  "
      ],
      "metadata": {
        "id": "UMRgfR1bV1lZ"
      }
    },
    {
      "cell_type": "markdown",
      "source": [
        "Para ver estos datos de una manera más entendible, se usan distintos diagramas que van acordes a la variable Frequency. Se realiza un diagrama de densidad con el fin de ver la distribución que siguen los datos y adicionalmente resaltar la media, mediana y moda en dicho diagrama. "
      ],
      "metadata": {
        "id": "-ErHYNy610wA"
      }
    },
    {
      "cell_type": "code",
      "source": [
        "plot.figure(figsize = (13,7.5)) # Escala gráfico\n",
        "data.Frequency.plot.density(label = 'Curva de distribución', color = 'black', grid = True) # Gráfica la distribución de la variable Recency\n",
        "plot.axvline(x = data['Frequency'].mean(), ymin = 0, ymax = 1, label = 'Media', color = 'darkblue') # Recta que representa la media en la distribución \n",
        "plot.axvline(x = data['Frequency'].mode()[0], ymin = 0, ymax = 1, label = 'Moda', color = 'red')# Recta que representa la moda en la distribución\n",
        "plot.axvline(x = data['Frequency'].median(), ymin = 0, ymax = 1, label = 'Mediana', color = 'darkgreen') # Recta que representa la mediana en la distribución\n",
        "plot.xticks(np.arange(-25,80,5)) # Escala del eje x\n",
        "plot.legend() # Recuadro de etiquetas para identificar cada elemento del gráfico.\n",
        "plot.ylabel(\"Densidad\") # Título eje y\n",
        "plot.xlabel(\"Frequency\") # Título eje x\n",
        "plot.title(\"Distribución variable Frequency\") # Título gráfica\n",
        "plot.show() # Me muestra el gráfico"
      ],
      "metadata": {
        "id": "RtzjFhPd_kc7"
      },
      "execution_count": null,
      "outputs": []
    },
    {
      "cell_type": "markdown",
      "source": [
        "Según el gráfico la variable Frequency no tiene una distribución normal. Esto se argumenta teniendo en cuenta que para la variable *moda $<$ mediana $<$ media*, lo cual indica que la distribución está sesgada positivamente. Por tal motivo, la desviación estándar es inadecuada para saber qué tan dispersos se encuentran los datos con relación a la media. Se calculará el coeficiente de variación para tener una mejor información al respecto."
      ],
      "metadata": {
        "id": "AIOMG9Hx-xij"
      }
    },
    {
      "cell_type": "code",
      "source": [
        "#Fórmula del coeficiente de variación tomándolo porcentualmente\n",
        "coef_variación= (data.Frequency.std()/data.Frequency.mean())*100  \n",
        "print(\"Coeficiente de variación:\",coef_variación)"
      ],
      "metadata": {
        "id": "CH2muEp7B1wK"
      },
      "execution_count": null,
      "outputs": []
    },
    {
      "cell_type": "markdown",
      "source": [
        "Como el porcentaje del coeficiente de variación es demasiado alto (incluso mayor que el $100\\%$) se puede afirmar que los datos de la variable Frequency son demasiado heterogéneos, es decir, se encuentran muy dispersos de la media. "
      ],
      "metadata": {
        "id": "D7FCIuK0DbWS"
      }
    },
    {
      "cell_type": "markdown",
      "source": [
        "Mediante un diagrama de caja se podrá ver de una mejor manera cómo están ubicados los datos respecto a la media."
      ],
      "metadata": {
        "id": "dnJ4IiNp7Ssq"
      }
    },
    {
      "cell_type": "code",
      "source": [
        "plot.figure(figsize = (13,7.5))\n",
        "data.Frequency.plot.box(color = \"darkblue\",\n",
        "                        title = \"Total de Donaciones\",\n",
        "                        grid = True,\n",
        "                        yticks = range(0,60,5))"
      ],
      "metadata": {
        "id": "dJt4YfXQ6TK8"
      },
      "execution_count": null,
      "outputs": []
    },
    {
      "cell_type": "markdown",
      "source": [
        "Según el diagrama se evidencia que hay varios outliers, lo que reafirma el hecho de que los datos se encuentran muy dispersos con respecto a la media. Para demostrar la existencia de estos outliers en el diagrama de caja anterior, se realizará el cálculo de los bigotes."
      ],
      "metadata": {
        "id": "jn2su5PV9ZIT"
      }
    },
    {
      "cell_type": "code",
      "source": [
        "# Se calcula el valor de los cuartiles\n",
        "Q1 = data.Frequency.quantile(0.25)\n",
        "Q2 = data.Frequency.quantile(0.50)\n",
        "Q3 = data.Frequency.quantile(0.75)\n",
        "RI = Q3-Q1\n",
        "# Se calcula el valor del bigote superior\n",
        "BS = Q3 + 1.5*RI\n",
        "print(\"Bigote superior:\", BS)\n",
        "# Se calcula el valor del bigote inferior\n",
        "BI = Q1 - 1.5*RI\n",
        "print(\"Bigote inferiór:\", BI)"
      ],
      "metadata": {
        "id": "N7IYaaA1EuQB"
      },
      "execution_count": null,
      "outputs": []
    },
    {
      "cell_type": "markdown",
      "source": [
        "Como el valor mínimo de la variable es una $1$ donación y el resultado del bigote inferior es menor que dicho valor, se asegura que no existen outliers inferiores. Además, el bigote en la gráfica tomará el valor mínimo de los datos, es decir, una donación. Por otro lado, el valor máximo de la variable es de $50$ donaciones, el cual es mayor al bigote superior, lo que garantiza la existencia de outliers superiores.  "
      ],
      "metadata": {
        "id": "B9MMDfXgGTNy"
      }
    },
    {
      "cell_type": "markdown",
      "source": [
        "Se realizará un gráfico de barras para evidenciar la frecuencia absoluta de cada dato de la variable Frequency."
      ],
      "metadata": {
        "id": "NPcFsztZ5n3z"
      }
    },
    {
      "cell_type": "code",
      "source": [
        "df_Frequency = data[\"Frequency\"].value_counts()"
      ],
      "metadata": {
        "id": "hF8DXzUu3QHz"
      },
      "execution_count": null,
      "outputs": []
    },
    {
      "cell_type": "code",
      "source": [
        "# Comando para poner etiquetas a las barras.\n",
        "plot.figure(figsize = (13,7.5))\n",
        "splot = df_Frequency.plot.bar(color = \"darkblue\",\n",
        "                      grid = True,\n",
        "                      title = \"Total de donaciones desde la primera donación\",\n",
        "                      xlabel = \"Cantidad de donaciones\",\n",
        "                      ylabel = \"Cantidad de personas\")\n",
        "\n",
        "for p in splot.patches: \n",
        "    splot.annotate(format(p.get_height()), \n",
        "                   (p.get_x() + p.get_width() / 2., p.get_height()), \n",
        "                   ha='center', va='center', \n",
        "                   xytext=(0, 9), \n",
        "                   textcoords='offset points') "
      ],
      "metadata": {
        "id": "ujvxkBP93fsH",
        "colab": {
          "base_uri": "https://localhost:8080/",
          "height": 236
        },
        "outputId": "c4551986-01a6-425e-cc0f-7105151de1f9"
      },
      "execution_count": null,
      "outputs": [
        {
          "output_type": "error",
          "ename": "NameError",
          "evalue": "ignored",
          "traceback": [
            "\u001b[0;31m---------------------------------------------------------------------------\u001b[0m",
            "\u001b[0;31mNameError\u001b[0m                                 Traceback (most recent call last)",
            "\u001b[0;32m<ipython-input-2-6739027f6f95>\u001b[0m in \u001b[0;36m<module>\u001b[0;34m\u001b[0m\n\u001b[1;32m      1\u001b[0m \u001b[0;31m# Comando para poner etiquetas a las barras.\u001b[0m\u001b[0;34m\u001b[0m\u001b[0;34m\u001b[0m\u001b[0;34m\u001b[0m\u001b[0m\n\u001b[0;32m----> 2\u001b[0;31m \u001b[0mplot\u001b[0m\u001b[0;34m.\u001b[0m\u001b[0mfigure\u001b[0m\u001b[0;34m(\u001b[0m\u001b[0mfigsize\u001b[0m \u001b[0;34m=\u001b[0m \u001b[0;34m(\u001b[0m\u001b[0;36m13\u001b[0m\u001b[0;34m,\u001b[0m\u001b[0;36m7.5\u001b[0m\u001b[0;34m)\u001b[0m\u001b[0;34m)\u001b[0m\u001b[0;34m\u001b[0m\u001b[0;34m\u001b[0m\u001b[0m\n\u001b[0m\u001b[1;32m      3\u001b[0m splot = df_Frequency.plot.bar(color = \"darkblue\",\n\u001b[1;32m      4\u001b[0m                       \u001b[0mgrid\u001b[0m \u001b[0;34m=\u001b[0m \u001b[0;32mTrue\u001b[0m\u001b[0;34m,\u001b[0m\u001b[0;34m\u001b[0m\u001b[0;34m\u001b[0m\u001b[0m\n\u001b[1;32m      5\u001b[0m                       \u001b[0mtitle\u001b[0m \u001b[0;34m=\u001b[0m \u001b[0;34m\"Total de donaciones desde la primera donación\"\u001b[0m\u001b[0;34m,\u001b[0m\u001b[0;34m\u001b[0m\u001b[0;34m\u001b[0m\u001b[0m\n",
            "\u001b[0;31mNameError\u001b[0m: name 'plot' is not defined"
          ]
        }
      ]
    },
    {
      "cell_type": "markdown",
      "source": [
        "Según el gráfico se afirma que la mayor parte de la muestra ha donado entre 1 y 11 veces. Por otro lado, los valores con menor frecuencia son aquellos que tiene una alta cantidad de donaciones."
      ],
      "metadata": {
        "id": "KQjtgb0B7Zn-"
      }
    },
    {
      "cell_type": "markdown",
      "source": [
        "##Variable Donated"
      ],
      "metadata": {
        "id": "jlOKF9TBv4UR"
      }
    },
    {
      "cell_type": "markdown",
      "source": [
        "La variable Donated es de tipo booleana y será el objetivo de predicción de este proyecto. "
      ],
      "metadata": {
        "id": "j6iOLseBwOTE"
      }
    },
    {
      "cell_type": "code",
      "source": [
        "plot.figure(figsize=(20,7.5)) #tamaño de la figura\n",
        "data['Donated'].value_counts().plot(kind='pie',\n",
        "                                    autopct='%.f%%', #Permite tener visibles los porcentajes en cada una de las secciones de la gráfica.\n",
        "                                    title='Personas que donaron en marzo del 2007', #Título de la gráfica.\n",
        "                                    colors=['gray', 'red'], #Colores de cada sección del gráfico de tarta.\n",
        "                                    explode=[0.1,0.1], #separación de cada sección con el centro del gráfico.\n",
        "                                    fontsize=15,labels=['No','Sí']) #permite graficar el diagrama de tarta de la variable."
      ],
      "metadata": {
        "id": "j0U86n6PwwOi"
      },
      "execution_count": null,
      "outputs": []
    },
    {
      "cell_type": "markdown",
      "source": [
        "Con esta información se puede concluir que el $76\\%$ de las personas no donó en Marzo del $2007$, y que un $24\\%$ sí lo hizo."
      ],
      "metadata": {
        "id": "_kwAvRqL3UEm"
      }
    },
    {
      "cell_type": "markdown",
      "source": [
        "Observe ahora el comportamiento de la variable 'Donated' con respecto a las demás variables."
      ],
      "metadata": {
        "id": "kMvq34heqI2Z"
      }
    },
    {
      "cell_type": "code",
      "source": [
        "sns.pairplot(data=data,vars=['Recency', 'Frequency','Monetary','Time'],palette=['gray','red'], hue='Donated') #gráfico que permite relacionar dos a dos cada variable con una escala de colores definida por una tercera variable.\n",
        "plot.show() #permite mostrar el.black, cyanc"
      ],
      "metadata": {
        "id": "7ffav1d5runq"
      },
      "execution_count": null,
      "outputs": []
    },
    {
      "cell_type": "markdown",
      "source": [
        "Se puede observar que:\n",
        "+ Si se escoge una persona que haya donado en marzo del $2007$ , es más problable que el tiempo transcurrido desde su última donación sea bajo.\n",
        "\n",
        "+ Las personas que donaron en marzo del $2007$, tienen en su mayoria una frecuencia de donación alta. En consecuencia también la cantidad de centímetros cúbicos de sangre donados será elevada.\n",
        "\n",
        "+ El tiempo transcurrido desde la primera donación no muestra mayor relación con respecto a la probabilidad de que una persona haya donado o no en marzo del $2007$. \n",
        "\n",
        "+ La frecuencia y la cantidad de sangre donada tienen una relación lineal."
      ],
      "metadata": {
        "id": "bN92qTrKuJGW"
      }
    },
    {
      "cell_type": "markdown",
      "source": [
        "## Matriz de correlación."
      ],
      "metadata": {
        "id": "C5Lcool2GCEf"
      }
    },
    {
      "cell_type": "code",
      "source": [
        "corr_matrix = data.iloc[:,0:4].corr() # Comando para hacer la matriz de correlación.\n",
        "corr_matrix"
      ],
      "metadata": {
        "id": "XsYy9iHgGI3_"
      },
      "execution_count": null,
      "outputs": []
    },
    {
      "cell_type": "code",
      "source": [
        "plot.figure(figsize=(8,8))\n",
        "sns.heatmap(corr_matrix, annot = True) #Gráfica de la matriz de correlación."
      ],
      "metadata": {
        "id": "D-Ck541kGBWv"
      },
      "execution_count": null,
      "outputs": []
    },
    {
      "cell_type": "markdown",
      "source": [
        "En esta matriz se puede verificar que las variables se correlacionan de la siguiente manera:\n",
        "1. Las variables Frequency y Monetary se correlacionan linealmente: el volumen de sangre donado crecerá a mayor número de donaciones. \n",
        "2. A mayor número de donaciones (Frequency) se tendrá que el tiempo que ha transcurrido desde la primera donación (Time) ha aumentado. Sin embargo, se evidencia que la correlación no es muy alta. Una persona que haya donado hace varios años pudo no volver a ejercer esta práctica. \n"
      ],
      "metadata": {
        "id": "avm2_mceGLnv"
      }
    },
    {
      "cell_type": "code",
      "source": [
        "del(data['Monetary_group'])\n",
        "data"
      ],
      "metadata": {
        "id": "ogafIgSLJerO"
      },
      "execution_count": null,
      "outputs": []
    },
    {
      "cell_type": "markdown",
      "source": [
        "Se realiza una partición de los datos, entre datos entrenamiento y datos de prueba para realizar machine learning. "
      ],
      "metadata": {
        "id": "0GpQk9my6Oj1"
      }
    },
    {
      "cell_type": "code",
      "source": [
        "# Importar train_test_split\n",
        "from sklearn.model_selection import train_test_split\n",
        "\n",
        "# Se particionan los datos en los siguientes conjunto de datos\n",
        "# X_train, X_test, y_train and y_test,\n",
        "X_train, X_test, y_train, y_test = train_test_split(\n",
        "    data.drop(columns='Donated'), #Conjunto de datos que entrenan la maquina.\n",
        "    data.Donated, #Conjunto de datos de predicción o variable objetivo\n",
        "    test_size=0.25, #tamaño de los nuevos datos de entrenamiento.\n",
        "    random_state=0, #semilla original\n",
        "    stratify=data.Donated #permite tener en cada categoria nueva la misma proporción de datos que el DataFrame original.\n",
        ") #Arroja cuatro matrices de tipo Numpy dos que hacen parte del entrenamiento X_train y y_train y dos de prueba X_test y y_test\n",
        "\n",
        "# Print out the first 2 rows of X_train\n",
        "X_train.head(100)"
      ],
      "metadata": {
        "id": "ESN6v0EIIXw0"
      },
      "execution_count": null,
      "outputs": []
    },
    {
      "cell_type": "markdown",
      "source": [
        "#Inferencia Estadística"
      ],
      "metadata": {
        "id": "1DgET_7XWSGL"
      }
    },
    {
      "cell_type": "markdown",
      "source": [
        "Se importan los paquetes que se van a usar. Note que (`!pip install tpot`) no se está ejecutando ya que se debe instalar cada vez que se abra el documento.  Se recomienda realizar los siguientes pasos:\n",
        "1. Quitarlo del entorno #.\n",
        "2. Ejecutar ese segmento de código de paquetes.\n",
        "3. Volver a ponerlo en el entorno #."
      ],
      "metadata": {
        "id": "DjsIgBxgahwK"
      }
    },
    {
      "cell_type": "code",
      "source": [
        "# Paquetes a usar\n",
        "\n",
        "from sklearn.model_selection import train_test_split\n",
        "\n",
        "!pip install tpot\n",
        "from tpot import TPOTClassifier\n",
        "\n",
        "from sklearn import linear_model\n",
        "\n",
        "from sklearn.metrics import precision_score, accuracy_score, recall_score, f1_score, roc_auc_score\n",
        "from sklearn.metrics import confusion_matrix\n",
        "from sklearn.metrics import ConfusionMatrixDisplay"
      ],
      "metadata": {
        "id": "-pcwFmgMrBAD",
        "colab": {
          "base_uri": "https://localhost:8080/"
        },
        "outputId": "76bd6a70-5471-42f3-a2e1-188b199f1338"
      },
      "execution_count": null,
      "outputs": [
        {
          "output_type": "stream",
          "name": "stdout",
          "text": [
            "Looking in indexes: https://pypi.org/simple, https://us-python.pkg.dev/colab-wheels/public/simple/\n",
            "Collecting tpot\n",
            "  Downloading TPOT-0.11.7-py3-none-any.whl (87 kB)\n",
            "\u001b[K     |████████████████████████████████| 87 kB 3.0 MB/s \n",
            "\u001b[?25hRequirement already satisfied: pandas>=0.24.2 in /usr/local/lib/python3.8/dist-packages (from tpot) (1.3.5)\n",
            "Requirement already satisfied: scikit-learn>=0.22.0 in /usr/local/lib/python3.8/dist-packages (from tpot) (1.0.2)\n",
            "Collecting deap>=1.2\n",
            "  Downloading deap-1.3.3-cp38-cp38-manylinux_2_5_x86_64.manylinux1_x86_64.manylinux_2_17_x86_64.manylinux2014_x86_64.whl (139 kB)\n",
            "\u001b[K     |████████████████████████████████| 139 kB 9.3 MB/s \n",
            "\u001b[?25hRequirement already satisfied: tqdm>=4.36.1 in /usr/local/lib/python3.8/dist-packages (from tpot) (4.64.1)\n",
            "Collecting update-checker>=0.16\n",
            "  Downloading update_checker-0.18.0-py3-none-any.whl (7.0 kB)\n",
            "Requirement already satisfied: scipy>=1.3.1 in /usr/local/lib/python3.8/dist-packages (from tpot) (1.7.3)\n",
            "Collecting stopit>=1.1.1\n",
            "  Downloading stopit-1.1.2.tar.gz (18 kB)\n",
            "Requirement already satisfied: joblib>=0.13.2 in /usr/local/lib/python3.8/dist-packages (from tpot) (1.2.0)\n",
            "Requirement already satisfied: numpy>=1.16.3 in /usr/local/lib/python3.8/dist-packages (from tpot) (1.21.6)\n",
            "Collecting xgboost>=1.1.0\n",
            "  Downloading xgboost-1.7.2-py3-none-manylinux2014_x86_64.whl (193.6 MB)\n",
            "\u001b[K     |████████████████████████████████| 193.6 MB 68 kB/s \n",
            "\u001b[?25hRequirement already satisfied: pytz>=2017.3 in /usr/local/lib/python3.8/dist-packages (from pandas>=0.24.2->tpot) (2022.6)\n",
            "Requirement already satisfied: python-dateutil>=2.7.3 in /usr/local/lib/python3.8/dist-packages (from pandas>=0.24.2->tpot) (2.8.2)\n",
            "Requirement already satisfied: six>=1.5 in /usr/local/lib/python3.8/dist-packages (from python-dateutil>=2.7.3->pandas>=0.24.2->tpot) (1.15.0)\n",
            "Requirement already satisfied: threadpoolctl>=2.0.0 in /usr/local/lib/python3.8/dist-packages (from scikit-learn>=0.22.0->tpot) (3.1.0)\n",
            "Requirement already satisfied: requests>=2.3.0 in /usr/local/lib/python3.8/dist-packages (from update-checker>=0.16->tpot) (2.23.0)\n",
            "Requirement already satisfied: idna<3,>=2.5 in /usr/local/lib/python3.8/dist-packages (from requests>=2.3.0->update-checker>=0.16->tpot) (2.10)\n",
            "Requirement already satisfied: certifi>=2017.4.17 in /usr/local/lib/python3.8/dist-packages (from requests>=2.3.0->update-checker>=0.16->tpot) (2022.9.24)\n",
            "Requirement already satisfied: chardet<4,>=3.0.2 in /usr/local/lib/python3.8/dist-packages (from requests>=2.3.0->update-checker>=0.16->tpot) (3.0.4)\n",
            "Requirement already satisfied: urllib3!=1.25.0,!=1.25.1,<1.26,>=1.21.1 in /usr/local/lib/python3.8/dist-packages (from requests>=2.3.0->update-checker>=0.16->tpot) (1.24.3)\n",
            "Building wheels for collected packages: stopit\n",
            "  Building wheel for stopit (setup.py) ... \u001b[?25l\u001b[?25hdone\n",
            "  Created wheel for stopit: filename=stopit-1.1.2-py3-none-any.whl size=11953 sha256=eebcc3eeb2cbab7ce4c7951850cb683f17e456e526c55d434ce55125b59c06e6\n",
            "  Stored in directory: /root/.cache/pip/wheels/a8/bb/8f/6b9328d23c2dcedbfeb8498b9f650d55d463089e3b8fc0bfb2\n",
            "Successfully built stopit\n",
            "Installing collected packages: xgboost, update-checker, stopit, deap, tpot\n",
            "  Attempting uninstall: xgboost\n",
            "    Found existing installation: xgboost 0.90\n",
            "    Uninstalling xgboost-0.90:\n",
            "      Successfully uninstalled xgboost-0.90\n",
            "Successfully installed deap-1.3.3 stopit-1.1.2 tpot-0.11.7 update-checker-0.18.0 xgboost-1.7.2\n"
          ]
        }
      ]
    },
    {
      "cell_type": "markdown",
      "source": [
        "Se retoma la variable categórica **Donated** con sus valores:\n",
        "\n",
        "*   **Donated** en vez de 1\n",
        "*   **No Donated** en vez de 0\n",
        "\n",
        "Esto garantiza un buen funcionamiento del paquete **tpot**"
      ],
      "metadata": {
        "id": "90tKW49dcAPm"
      }
    },
    {
      "cell_type": "code",
      "source": [
        "def Cambio(Donated):\n",
        "  if Donated == 0:\n",
        "    return False\n",
        "  else:\n",
        "    return True\n",
        "\n",
        "data.Donated = data.Donated.apply(Cambio)"
      ],
      "metadata": {
        "id": "jgRT3qJHAPCo"
      },
      "execution_count": null,
      "outputs": []
    },
    {
      "cell_type": "code",
      "source": [
        "data.head()"
      ],
      "metadata": {
        "colab": {
          "base_uri": "https://localhost:8080/",
          "height": 206
        },
        "id": "cfQzHLjGSpNi",
        "outputId": "802a277d-894c-4e2d-b57c-4272de49c067"
      },
      "execution_count": null,
      "outputs": [
        {
          "output_type": "execute_result",
          "data": {
            "text/plain": [
              "   Recency  Frequency  Monetary  Time  Donated\n",
              "0        2         50     12500    98     True\n",
              "1        0         13      3250    28     True\n",
              "2        1         16      4000    35     True\n",
              "3        2         20      5000    45     True\n",
              "4        1         24      6000    77    False"
            ],
            "text/html": [
              "\n",
              "  <div id=\"df-bb6fbc28-fb14-4ed0-9534-45ad2688952d\">\n",
              "    <div class=\"colab-df-container\">\n",
              "      <div>\n",
              "<style scoped>\n",
              "    .dataframe tbody tr th:only-of-type {\n",
              "        vertical-align: middle;\n",
              "    }\n",
              "\n",
              "    .dataframe tbody tr th {\n",
              "        vertical-align: top;\n",
              "    }\n",
              "\n",
              "    .dataframe thead th {\n",
              "        text-align: right;\n",
              "    }\n",
              "</style>\n",
              "<table border=\"1\" class=\"dataframe\">\n",
              "  <thead>\n",
              "    <tr style=\"text-align: right;\">\n",
              "      <th></th>\n",
              "      <th>Recency</th>\n",
              "      <th>Frequency</th>\n",
              "      <th>Monetary</th>\n",
              "      <th>Time</th>\n",
              "      <th>Donated</th>\n",
              "    </tr>\n",
              "  </thead>\n",
              "  <tbody>\n",
              "    <tr>\n",
              "      <th>0</th>\n",
              "      <td>2</td>\n",
              "      <td>50</td>\n",
              "      <td>12500</td>\n",
              "      <td>98</td>\n",
              "      <td>True</td>\n",
              "    </tr>\n",
              "    <tr>\n",
              "      <th>1</th>\n",
              "      <td>0</td>\n",
              "      <td>13</td>\n",
              "      <td>3250</td>\n",
              "      <td>28</td>\n",
              "      <td>True</td>\n",
              "    </tr>\n",
              "    <tr>\n",
              "      <th>2</th>\n",
              "      <td>1</td>\n",
              "      <td>16</td>\n",
              "      <td>4000</td>\n",
              "      <td>35</td>\n",
              "      <td>True</td>\n",
              "    </tr>\n",
              "    <tr>\n",
              "      <th>3</th>\n",
              "      <td>2</td>\n",
              "      <td>20</td>\n",
              "      <td>5000</td>\n",
              "      <td>45</td>\n",
              "      <td>True</td>\n",
              "    </tr>\n",
              "    <tr>\n",
              "      <th>4</th>\n",
              "      <td>1</td>\n",
              "      <td>24</td>\n",
              "      <td>6000</td>\n",
              "      <td>77</td>\n",
              "      <td>False</td>\n",
              "    </tr>\n",
              "  </tbody>\n",
              "</table>\n",
              "</div>\n",
              "      <button class=\"colab-df-convert\" onclick=\"convertToInteractive('df-bb6fbc28-fb14-4ed0-9534-45ad2688952d')\"\n",
              "              title=\"Convert this dataframe to an interactive table.\"\n",
              "              style=\"display:none;\">\n",
              "        \n",
              "  <svg xmlns=\"http://www.w3.org/2000/svg\" height=\"24px\"viewBox=\"0 0 24 24\"\n",
              "       width=\"24px\">\n",
              "    <path d=\"M0 0h24v24H0V0z\" fill=\"none\"/>\n",
              "    <path d=\"M18.56 5.44l.94 2.06.94-2.06 2.06-.94-2.06-.94-.94-2.06-.94 2.06-2.06.94zm-11 1L8.5 8.5l.94-2.06 2.06-.94-2.06-.94L8.5 2.5l-.94 2.06-2.06.94zm10 10l.94 2.06.94-2.06 2.06-.94-2.06-.94-.94-2.06-.94 2.06-2.06.94z\"/><path d=\"M17.41 7.96l-1.37-1.37c-.4-.4-.92-.59-1.43-.59-.52 0-1.04.2-1.43.59L10.3 9.45l-7.72 7.72c-.78.78-.78 2.05 0 2.83L4 21.41c.39.39.9.59 1.41.59.51 0 1.02-.2 1.41-.59l7.78-7.78 2.81-2.81c.8-.78.8-2.07 0-2.86zM5.41 20L4 18.59l7.72-7.72 1.47 1.35L5.41 20z\"/>\n",
              "  </svg>\n",
              "      </button>\n",
              "      \n",
              "  <style>\n",
              "    .colab-df-container {\n",
              "      display:flex;\n",
              "      flex-wrap:wrap;\n",
              "      gap: 12px;\n",
              "    }\n",
              "\n",
              "    .colab-df-convert {\n",
              "      background-color: #E8F0FE;\n",
              "      border: none;\n",
              "      border-radius: 50%;\n",
              "      cursor: pointer;\n",
              "      display: none;\n",
              "      fill: #1967D2;\n",
              "      height: 32px;\n",
              "      padding: 0 0 0 0;\n",
              "      width: 32px;\n",
              "    }\n",
              "\n",
              "    .colab-df-convert:hover {\n",
              "      background-color: #E2EBFA;\n",
              "      box-shadow: 0px 1px 2px rgba(60, 64, 67, 0.3), 0px 1px 3px 1px rgba(60, 64, 67, 0.15);\n",
              "      fill: #174EA6;\n",
              "    }\n",
              "\n",
              "    [theme=dark] .colab-df-convert {\n",
              "      background-color: #3B4455;\n",
              "      fill: #D2E3FC;\n",
              "    }\n",
              "\n",
              "    [theme=dark] .colab-df-convert:hover {\n",
              "      background-color: #434B5C;\n",
              "      box-shadow: 0px 1px 3px 1px rgba(0, 0, 0, 0.15);\n",
              "      filter: drop-shadow(0px 1px 2px rgba(0, 0, 0, 0.3));\n",
              "      fill: #FFFFFF;\n",
              "    }\n",
              "  </style>\n",
              "\n",
              "      <script>\n",
              "        const buttonEl =\n",
              "          document.querySelector('#df-bb6fbc28-fb14-4ed0-9534-45ad2688952d button.colab-df-convert');\n",
              "        buttonEl.style.display =\n",
              "          google.colab.kernel.accessAllowed ? 'block' : 'none';\n",
              "\n",
              "        async function convertToInteractive(key) {\n",
              "          const element = document.querySelector('#df-bb6fbc28-fb14-4ed0-9534-45ad2688952d');\n",
              "          const dataTable =\n",
              "            await google.colab.kernel.invokeFunction('convertToInteractive',\n",
              "                                                     [key], {});\n",
              "          if (!dataTable) return;\n",
              "\n",
              "          const docLinkHtml = 'Like what you see? Visit the ' +\n",
              "            '<a target=\"_blank\" href=https://colab.research.google.com/notebooks/data_table.ipynb>data table notebook</a>'\n",
              "            + ' to learn more about interactive tables.';\n",
              "          element.innerHTML = '';\n",
              "          dataTable['output_type'] = 'display_data';\n",
              "          await google.colab.output.renderOutput(dataTable, element);\n",
              "          const docLink = document.createElement('div');\n",
              "          docLink.innerHTML = docLinkHtml;\n",
              "          element.appendChild(docLink);\n",
              "        }\n",
              "      </script>\n",
              "    </div>\n",
              "  </div>\n",
              "  "
            ]
          },
          "metadata": {},
          "execution_count": 47
        }
      ]
    },
    {
      "cell_type": "markdown",
      "source": [
        "Se verifica el porcentaje de cada uno de los valores de la variable **Donated**. Lo que permite concluir:\n",
        "\n",
        "\n",
        "*   El $76\\%$ de la muestra no donaron en marzo del 2007 (**False**).\n",
        "*   El $24\\%$ de la muestra donaron en marzo del 2007 (**True**).  \n",
        "\n",
        "\n",
        "\n",
        "\n"
      ],
      "metadata": {
        "id": "cKkszXVDc1O9"
      }
    },
    {
      "cell_type": "code",
      "source": [
        "# La variable a la cual se le aplicará la predicción es Donated\n",
        "data.Donated.value_counts(normalize = True)"
      ],
      "metadata": {
        "colab": {
          "base_uri": "https://localhost:8080/"
        },
        "id": "HZN7o96ydS8t",
        "outputId": "fbc7658c-7ca7-4d05-8923-3efbb69bbf59"
      },
      "execution_count": null,
      "outputs": [
        {
          "output_type": "execute_result",
          "data": {
            "text/plain": [
              "False    0.762032\n",
              "True     0.237968\n",
              "Name: Donated, dtype: float64"
            ]
          },
          "metadata": {},
          "execution_count": 48
        }
      ]
    },
    {
      "cell_type": "markdown",
      "source": [
        "Se particionan los datos de la muestra. Una parte para entrenar el modelo (**X_train** y **y_train**) y otra para evaluar su rendimiento (**X_test** y **y_test**) respetando la distribución de la variable **Donated**.\n"
      ],
      "metadata": {
        "id": "YBDsX4A6fYcL"
      }
    },
    {
      "cell_type": "code",
      "source": [
        "# Dividiremos los datos en datos de entranamiento (train) y datos de prueba (test)\n",
        "\n",
        "X_train, X_test, y_train, y_test = train_test_split(\n",
        "    data.drop(columns='Donated'),              #La base de datos omitiendo la columna Donated.\n",
        "    data.Donated,                              #La variable objetivo.\n",
        "    test_size=0.25,                            #Indica que se mantega el 25% de los datos en los datos de prueba.\n",
        "    random_state=42,                           #Fija una semilla para generar números aleatorios.\n",
        "    stratify=data.Donated                      #Genera los bloques de entrenamiento y de prueba\n",
        "                                               #preservando el porcentaje de los datos de la muestra \n",
        "                                               #original con base a la variable Donated. \n",
        ")"
      ],
      "metadata": {
        "id": "2x-GfYCxdvtm"
      },
      "execution_count": null,
      "outputs": []
    },
    {
      "cell_type": "markdown",
      "source": [
        "Se verifica que la partición del conjunto de datos de la variable a predecir mantenga el porcentaje."
      ],
      "metadata": {
        "id": "r5BiWD8YhTLT"
      }
    },
    {
      "cell_type": "code",
      "source": [
        "#Casos de entrenamiento\n",
        "y_train.value_counts(normalize = True)"
      ],
      "metadata": {
        "colab": {
          "base_uri": "https://localhost:8080/"
        },
        "id": "sYr8KkvBfded",
        "outputId": "d4192453-0b7c-4fe3-f0e1-10410f33b55e"
      },
      "execution_count": null,
      "outputs": [
        {
          "output_type": "execute_result",
          "data": {
            "text/plain": [
              "False    0.761141\n",
              "True     0.238859\n",
              "Name: Donated, dtype: float64"
            ]
          },
          "metadata": {},
          "execution_count": 50
        }
      ]
    },
    {
      "cell_type": "code",
      "source": [
        "#Casos de prueba\n",
        "y_test.value_counts(normalize = True)"
      ],
      "metadata": {
        "colab": {
          "base_uri": "https://localhost:8080/"
        },
        "id": "Fhs3F_uMgAah",
        "outputId": "d633d001-5526-441e-d8c3-3ffd852af86b"
      },
      "execution_count": null,
      "outputs": [
        {
          "output_type": "execute_result",
          "data": {
            "text/plain": [
              "False    0.764706\n",
              "True     0.235294\n",
              "Name: Donated, dtype: float64"
            ]
          },
          "metadata": {},
          "execution_count": 51
        }
      ]
    },
    {
      "cell_type": "markdown",
      "source": [
        "Se puede notar que los datos divididos tienen dos diferentes estructuras."
      ],
      "metadata": {
        "id": "n7nAkD7siQsx"
      }
    },
    {
      "cell_type": "code",
      "source": [
        "# Identificamos que tipo de datos son X_train/X_test y y_train/y_test\n",
        "print(\" X_test tiene estructura de \", type(X_test), \"\\n\", \"y_train tiene estructura de \", type(y_train))"
      ],
      "metadata": {
        "colab": {
          "base_uri": "https://localhost:8080/"
        },
        "id": "hnqfL9qugIN3",
        "outputId": "42569f52-b6d7-4f73-c47e-c2915226cc67"
      },
      "execution_count": null,
      "outputs": [
        {
          "output_type": "stream",
          "name": "stdout",
          "text": [
            " X_test tiene estructura de  <class 'pandas.core.frame.DataFrame'> \n",
            " y_train tiene estructura de  <class 'pandas.core.series.Series'>\n"
          ]
        }
      ]
    },
    {
      "cell_type": "markdown",
      "source": [
        "Ahora, se hará uso de la librería `TPOT`; un asistente virtual que brindará el  mejor modelo para predecir los datos."
      ],
      "metadata": {
        "id": "TzHaWMKcimjr"
      }
    },
    {
      "cell_type": "code",
      "source": [
        "# Se ajusta TPOT\n",
        "\n",
        "tpot = TPOTClassifier(\n",
        "    generations = 1,\n",
        "    population_size = 20,\n",
        "    verbosity = 1,\n",
        "    random_state = 42,\n",
        "    scoring = \"roc_auc\",\n",
        "    disable_update_check = True,\n",
        "    config_dict = \"TPOT light\"\n",
        ")"
      ],
      "metadata": {
        "id": "3TTGgMr_hdp-"
      },
      "execution_count": null,
      "outputs": []
    },
    {
      "cell_type": "code",
      "source": [
        "#Se entrena el TPOT\n",
        "\n",
        "tpot.fit(X_train, y_train);\n",
        "\n",
        "print('\\nMejor modelo:', end='\\n')\n",
        "for idx, (name, transform) in enumerate(tpot.fitted_pipeline_.steps, start=1):\n",
        "    # Print idx and transform\n",
        "    print(f'{idx}. {transform}')"
      ],
      "metadata": {
        "colab": {
          "base_uri": "https://localhost:8080/"
        },
        "id": "b7Zuyc0xFaqh",
        "outputId": "d7ace784-5711-477b-bc1f-cabd91a5e208"
      },
      "execution_count": null,
      "outputs": [
        {
          "output_type": "stream",
          "name": "stdout",
          "text": [
            "Best pipeline: LogisticRegression(input_matrix, C=25.0, dual=False, penalty=l2)\n",
            "\n",
            "Mejor modelo:\n",
            "1. LogisticRegression(C=25.0, random_state=42)\n"
          ]
        }
      ]
    },
    {
      "cell_type": "markdown",
      "source": [
        "## Regresión logística sin normalizar"
      ],
      "metadata": {
        "id": "okmat3ICBcRt"
      }
    },
    {
      "cell_type": "markdown",
      "source": [
        "Se hace uso de la *regresión logística* sugerida por `tpot` y se entrena dicho modelo.\n",
        " "
      ],
      "metadata": {
        "id": "tyIqx3-GjvGl"
      }
    },
    {
      "cell_type": "code",
      "source": [
        "# Regresion logística\n",
        "logreg =  linear_model.LogisticRegression(\n",
        "    C = 0.1,\n",
        "    solver='liblinear',\n",
        "    random_state=42       \n",
        ")\n",
        "\n",
        "# Se entrena  el modelo\n",
        "logreg.fit(X_train, y_train);"
      ],
      "metadata": {
        "id": "UigKjt4YBbjE"
      },
      "execution_count": null,
      "outputs": []
    },
    {
      "cell_type": "markdown",
      "source": [
        "Es de interés conocer la influencia de cada una de las variables independientes (*Recency*, *Frecuency*, *Monetary* y *Time*) sobre la variable dependiente (*Donated*). "
      ],
      "metadata": {
        "id": "AUk4dp4bmRnA"
      }
    },
    {
      "cell_type": "code",
      "source": [
        "# Los coeficientes de la regresión logística, permitirán conocer como afecta el cambio en  las variables independientes a la varieble donated.\n",
        "log_odds = logreg.coef_\n",
        "odds = np.exp(log_odds)\n",
        "\n",
        "coef= pd.concat([pd.DataFrame(X_train.columns),pd.DataFrame(np.transpose(odds))], axis = 1)\n",
        "coef"
      ],
      "metadata": {
        "colab": {
          "base_uri": "https://localhost:8080/",
          "height": 175
        },
        "id": "GuhM44lex82G",
        "outputId": "154004c8-9752-4cb0-af3b-586215fbb311"
      },
      "execution_count": null,
      "outputs": [
        {
          "output_type": "execute_result",
          "data": {
            "text/plain": [
              "           0         0\n",
              "0    Recency  0.907765\n",
              "1  Frequency  1.000002\n",
              "2   Monetary  1.000500\n",
              "3       Time  0.976883"
            ],
            "text/html": [
              "\n",
              "  <div id=\"df-3335591f-668f-4fd7-8c08-691f7c7330d9\">\n",
              "    <div class=\"colab-df-container\">\n",
              "      <div>\n",
              "<style scoped>\n",
              "    .dataframe tbody tr th:only-of-type {\n",
              "        vertical-align: middle;\n",
              "    }\n",
              "\n",
              "    .dataframe tbody tr th {\n",
              "        vertical-align: top;\n",
              "    }\n",
              "\n",
              "    .dataframe thead th {\n",
              "        text-align: right;\n",
              "    }\n",
              "</style>\n",
              "<table border=\"1\" class=\"dataframe\">\n",
              "  <thead>\n",
              "    <tr style=\"text-align: right;\">\n",
              "      <th></th>\n",
              "      <th>0</th>\n",
              "      <th>0</th>\n",
              "    </tr>\n",
              "  </thead>\n",
              "  <tbody>\n",
              "    <tr>\n",
              "      <th>0</th>\n",
              "      <td>Recency</td>\n",
              "      <td>0.907765</td>\n",
              "    </tr>\n",
              "    <tr>\n",
              "      <th>1</th>\n",
              "      <td>Frequency</td>\n",
              "      <td>1.000002</td>\n",
              "    </tr>\n",
              "    <tr>\n",
              "      <th>2</th>\n",
              "      <td>Monetary</td>\n",
              "      <td>1.000500</td>\n",
              "    </tr>\n",
              "    <tr>\n",
              "      <th>3</th>\n",
              "      <td>Time</td>\n",
              "      <td>0.976883</td>\n",
              "    </tr>\n",
              "  </tbody>\n",
              "</table>\n",
              "</div>\n",
              "      <button class=\"colab-df-convert\" onclick=\"convertToInteractive('df-3335591f-668f-4fd7-8c08-691f7c7330d9')\"\n",
              "              title=\"Convert this dataframe to an interactive table.\"\n",
              "              style=\"display:none;\">\n",
              "        \n",
              "  <svg xmlns=\"http://www.w3.org/2000/svg\" height=\"24px\"viewBox=\"0 0 24 24\"\n",
              "       width=\"24px\">\n",
              "    <path d=\"M0 0h24v24H0V0z\" fill=\"none\"/>\n",
              "    <path d=\"M18.56 5.44l.94 2.06.94-2.06 2.06-.94-2.06-.94-.94-2.06-.94 2.06-2.06.94zm-11 1L8.5 8.5l.94-2.06 2.06-.94-2.06-.94L8.5 2.5l-.94 2.06-2.06.94zm10 10l.94 2.06.94-2.06 2.06-.94-2.06-.94-.94-2.06-.94 2.06-2.06.94z\"/><path d=\"M17.41 7.96l-1.37-1.37c-.4-.4-.92-.59-1.43-.59-.52 0-1.04.2-1.43.59L10.3 9.45l-7.72 7.72c-.78.78-.78 2.05 0 2.83L4 21.41c.39.39.9.59 1.41.59.51 0 1.02-.2 1.41-.59l7.78-7.78 2.81-2.81c.8-.78.8-2.07 0-2.86zM5.41 20L4 18.59l7.72-7.72 1.47 1.35L5.41 20z\"/>\n",
              "  </svg>\n",
              "      </button>\n",
              "      \n",
              "  <style>\n",
              "    .colab-df-container {\n",
              "      display:flex;\n",
              "      flex-wrap:wrap;\n",
              "      gap: 12px;\n",
              "    }\n",
              "\n",
              "    .colab-df-convert {\n",
              "      background-color: #E8F0FE;\n",
              "      border: none;\n",
              "      border-radius: 50%;\n",
              "      cursor: pointer;\n",
              "      display: none;\n",
              "      fill: #1967D2;\n",
              "      height: 32px;\n",
              "      padding: 0 0 0 0;\n",
              "      width: 32px;\n",
              "    }\n",
              "\n",
              "    .colab-df-convert:hover {\n",
              "      background-color: #E2EBFA;\n",
              "      box-shadow: 0px 1px 2px rgba(60, 64, 67, 0.3), 0px 1px 3px 1px rgba(60, 64, 67, 0.15);\n",
              "      fill: #174EA6;\n",
              "    }\n",
              "\n",
              "    [theme=dark] .colab-df-convert {\n",
              "      background-color: #3B4455;\n",
              "      fill: #D2E3FC;\n",
              "    }\n",
              "\n",
              "    [theme=dark] .colab-df-convert:hover {\n",
              "      background-color: #434B5C;\n",
              "      box-shadow: 0px 1px 3px 1px rgba(0, 0, 0, 0.15);\n",
              "      filter: drop-shadow(0px 1px 2px rgba(0, 0, 0, 0.3));\n",
              "      fill: #FFFFFF;\n",
              "    }\n",
              "  </style>\n",
              "\n",
              "      <script>\n",
              "        const buttonEl =\n",
              "          document.querySelector('#df-3335591f-668f-4fd7-8c08-691f7c7330d9 button.colab-df-convert');\n",
              "        buttonEl.style.display =\n",
              "          google.colab.kernel.accessAllowed ? 'block' : 'none';\n",
              "\n",
              "        async function convertToInteractive(key) {\n",
              "          const element = document.querySelector('#df-3335591f-668f-4fd7-8c08-691f7c7330d9');\n",
              "          const dataTable =\n",
              "            await google.colab.kernel.invokeFunction('convertToInteractive',\n",
              "                                                     [key], {});\n",
              "          if (!dataTable) return;\n",
              "\n",
              "          const docLinkHtml = 'Like what you see? Visit the ' +\n",
              "            '<a target=\"_blank\" href=https://colab.research.google.com/notebooks/data_table.ipynb>data table notebook</a>'\n",
              "            + ' to learn more about interactive tables.';\n",
              "          element.innerHTML = '';\n",
              "          dataTable['output_type'] = 'display_data';\n",
              "          await google.colab.output.renderOutput(dataTable, element);\n",
              "          const docLink = document.createElement('div');\n",
              "          docLink.innerHTML = docLinkHtml;\n",
              "          element.appendChild(docLink);\n",
              "        }\n",
              "      </script>\n",
              "    </div>\n",
              "  </div>\n",
              "  "
            ]
          },
          "metadata": {},
          "execution_count": 56
        }
      ]
    },
    {
      "cell_type": "markdown",
      "source": [
        "Observese que cada uno de los coeficentes de la regresión logística se aproximan a $1$, esto implica que todas las variables influyen de la misma manera en el comportamiento del modelo.\n",
        "\n",
        "\n",
        "\n",
        "\n",
        "\n",
        "\n"
      ],
      "metadata": {
        "id": "5FNSaYWX6kQe"
      }
    },
    {
      "cell_type": "markdown",
      "source": [
        "Se realiza la predicción de los datos y se evalua los resultados obtenidos a través de la matríz de confusión."
      ],
      "metadata": {
        "id": "EPagkzylk-rb"
      }
    },
    {
      "cell_type": "code",
      "source": [
        "# Prediccion de datos\n",
        "y_pred = logreg.predict(X_test)\n",
        "y_predp = logreg.predict_proba(X_test)"
      ],
      "metadata": {
        "id": "RTX2ryyRC6JF"
      },
      "execution_count": null,
      "outputs": []
    },
    {
      "cell_type": "code",
      "source": [
        "# Matriz de Confusión\n",
        "mc = confusion_matrix(y_test, y_pred)\n",
        "ConfusionMatrixDisplay(mc).plot(cmap = 'binary')"
      ],
      "metadata": {
        "colab": {
          "base_uri": "https://localhost:8080/",
          "height": 300
        },
        "id": "CObxBwIYFH1K",
        "outputId": "9b571af9-b362-48bf-e7c7-6ecdeb8ba09d"
      },
      "execution_count": null,
      "outputs": [
        {
          "output_type": "execute_result",
          "data": {
            "text/plain": [
              "<sklearn.metrics._plot.confusion_matrix.ConfusionMatrixDisplay at 0x7f9933aa5a00>"
            ]
          },
          "metadata": {},
          "execution_count": 58
        },
        {
          "output_type": "display_data",
          "data": {
            "text/plain": [
              "<Figure size 432x288 with 2 Axes>"
            ],
            "image/png": "[encoded data removed]"
          },
          "metadata": {
            "needs_background": "light"
          }
        }
      ]
    },
    {
      "cell_type": "markdown",
      "source": [
        "Con los resultados de la matriz de confusión se concluye que en el modelo de regresión logística se obtuvo:\n",
        "\n",
        "* 140  de las predicciones son verdaderos negativos.\n",
        "* 5 de de las predecciones son verdaderos positivos.   \n",
        "* 3 de las predecciones son falsos positivos.  \n",
        "* 39 de las predecciones son falsos negativos. \n",
        "\n"
      ],
      "metadata": {
        "id": "SKEPv_QjnrL8"
      }
    },
    {
      "cell_type": "code",
      "source": [
        "# Buena Predicción\n",
        "\n",
        "print(\"Puntajes Regresión Logistica sin normalizar \\n\")\n",
        "print(\"Precisión:\", precision_score(y_test, y_pred, average = None).round(3))\n",
        "print(\"Exactitud:\", accuracy_score(y_test, y_pred).round(3))\n",
        "print(\"Sensibilidad:\", recall_score(y_test, y_pred, average = None).round(3))\n",
        "print(\"Puntaje AUC:\", roc_auc_score(y_test, y_predp[:,1]).round(4))"
      ],
      "metadata": {
        "colab": {
          "base_uri": "https://localhost:8080/"
        },
        "id": "L8wkY0ukuuZ1",
        "outputId": "ef5cf2f7-e8bc-4cf9-a117-b4c600da4208"
      },
      "execution_count": null,
      "outputs": [
        {
          "output_type": "stream",
          "name": "stdout",
          "text": [
            "Puntajes Regresión Logistica sin normalizar \n",
            "\n",
            "Precisión: [0.782 0.625]\n",
            "Exactitud: 0.775\n",
            "Sensibilidad: [0.979 0.114]\n",
            "Puntaje AUC: 0.7859\n"
          ]
        }
      ]
    },
    {
      "cell_type": "markdown",
      "source": [
        "Del informe de las métricas del modelo se afirma lo siguiente: \n",
        "\n",
        "\n",
        "*   **Precisión:** El modelo clasifica el $78.2.5\\%$ de los datos correspondientes a **True** y el $62.5\\%$  de los datos correspondientes a **False** correctamente.\n",
        "*   **Exactitud:**  El modelo clasifica el $77.5\\%$ de los datos correctamente.\n",
        "*   **Sensibilidad:** El modelo clasifica el $97.9\\%$ de los datos como **True** y el $11.4\\%$  de los datos como **False**.\n",
        "*   **Puntaje AUC:** Hay un $78.6\\%$ de probabilidad que el modelo pueda distinguir entre **True** y **False**.\n",
        "\n",
        "\n"
      ],
      "metadata": {
        "id": "0yFPDhxSqBXK"
      }
    },
    {
      "cell_type": "markdown",
      "source": [
        "## Regresión Logística Normalizando"
      ],
      "metadata": {
        "id": "AosiWW_dGXkU"
      }
    },
    {
      "cell_type": "markdown",
      "source": [
        "Con el fin de mejorar la capacidad de predecir del modelo, se verifica que al comparar los datos se tenga un comportamiento lineal. La varianza de las variables independientes sean igualmente comparables."
      ],
      "metadata": {
        "id": "q_KXEPR0xtcp"
      }
    },
    {
      "cell_type": "code",
      "source": [
        "X_train.var().round(3)"
      ],
      "metadata": {
        "colab": {
          "base_uri": "https://localhost:8080/"
        },
        "id": "RV3Y789vHY2Q",
        "outputId": "d334a5ff-4627-4174-869f-0d3cb3dbfbf0"
      },
      "execution_count": null,
      "outputs": [
        {
          "output_type": "execute_result",
          "data": {
            "text/plain": [
              "Recency           66.929\n",
              "Frequency         33.830\n",
              "Monetary     2114363.700\n",
              "Time             611.147\n",
              "dtype: float64"
            ]
          },
          "metadata": {},
          "execution_count": 60
        }
      ]
    },
    {
      "cell_type": "code",
      "source": [
        "X_test.var().round(3)"
      ],
      "metadata": {
        "colab": {
          "base_uri": "https://localhost:8080/"
        },
        "id": "sYr-LbyPHuGl",
        "outputId": "63bb0fce-185e-455e-e8fa-86961ed6872e"
      },
      "execution_count": null,
      "outputs": [
        {
          "output_type": "execute_result",
          "data": {
            "text/plain": [
              "Recency           61.692\n",
              "Frequency         34.887\n",
              "Monetary     2180416.595\n",
              "Time             533.939\n",
              "dtype: float64"
            ]
          },
          "metadata": {},
          "execution_count": 61
        }
      ]
    },
    {
      "cell_type": "markdown",
      "source": [
        "Se observa que la variable **Monetary** en el conjunto de datos tiene una variación alta, esto podría afectar la capacidad del modelo para aprender de otras variables. Es por ello que se realiza una normalización logarítmica a la variable (Monetary)."
      ],
      "metadata": {
        "id": "71nF-fS70db-"
      }
    },
    {
      "cell_type": "code",
      "source": [
        "# Copiar los datos a normalizar\n",
        "\n",
        "X_train_normed, X_test_normed = X_train.copy(), X_test.copy()\n",
        "\n",
        "# Especificar columna a normalizar\n",
        "\n",
        "col_to_normalize = \"Monetary\"\n",
        "\n",
        "# Normalización Logarítmica\n",
        "\n",
        "for df_ in [X_train_normed, X_test_normed]:\n",
        "    # Agregar variable normalizada\n",
        "    df_[\"MonetaryLog\"] = np.log(df_[col_to_normalize])\n",
        "    # Quitar variable no normalizada\n",
        "    df_.drop(columns=col_to_normalize, inplace=True)"
      ],
      "metadata": {
        "id": "r4hkIIr6H8sL"
      },
      "execution_count": null,
      "outputs": []
    },
    {
      "cell_type": "markdown",
      "source": [
        "Se verifica nuevamente las varianzas. Notando que estas tienen el mismo orden de magnitud. Lo anterior implica que todas las variables independientes sean igual de importantes para el modelo."
      ],
      "metadata": {
        "id": "Nhueps1g1ei8"
      }
    },
    {
      "cell_type": "code",
      "source": [
        "X_train_normed.var().round(3)"
      ],
      "metadata": {
        "colab": {
          "base_uri": "https://localhost:8080/"
        },
        "id": "3VPkwnaQINHi",
        "outputId": "83f2995a-809d-44f8-d168-ce2a82ea4dd3"
      },
      "execution_count": null,
      "outputs": [
        {
          "output_type": "execute_result",
          "data": {
            "text/plain": [
              "Recency         66.929\n",
              "Frequency       33.830\n",
              "Time           611.147\n",
              "MonetaryLog      0.837\n",
              "dtype: float64"
            ]
          },
          "metadata": {},
          "execution_count": 63
        }
      ]
    },
    {
      "cell_type": "code",
      "source": [
        "X_test_normed.var().round(3)"
      ],
      "metadata": {
        "colab": {
          "base_uri": "https://localhost:8080/"
        },
        "id": "aH-5Q_jXIUX4",
        "outputId": "10c348ee-a3ca-4fa7-94a7-84522dceb5dc"
      },
      "execution_count": null,
      "outputs": [
        {
          "output_type": "execute_result",
          "data": {
            "text/plain": [
              "Recency         61.692\n",
              "Frequency       34.887\n",
              "Time           533.939\n",
              "MonetaryLog      0.828\n",
              "dtype: float64"
            ]
          },
          "metadata": {},
          "execution_count": 64
        }
      ]
    },
    {
      "cell_type": "code",
      "source": [
        "# Regresión Logística\n",
        "\n",
        "logreg2 =  linear_model.LogisticRegression(\n",
        "    C = 0.1,\n",
        "    solver='liblinear',\n",
        "    random_state=42\n",
        ")\n",
        "\n",
        "# Entrenar el modelo\n",
        "\n",
        "logreg2.fit(X_train_normed, y_train);"
      ],
      "metadata": {
        "id": "9K7Jq_xNIaOk"
      },
      "execution_count": null,
      "outputs": []
    },
    {
      "cell_type": "code",
      "source": [
        "y_pred2 = logreg2.predict(X_test_normed)\n",
        "y_pred2p = logreg2.predict_proba(X_test_normed)"
      ],
      "metadata": {
        "id": "g-uAujKSI1EV"
      },
      "execution_count": null,
      "outputs": []
    },
    {
      "cell_type": "code",
      "source": [
        "mc2 = confusion_matrix(y_test, y_pred2)\n",
        "ConfusionMatrixDisplay(mc2).plot(cmap = 'binary')\n"
      ],
      "metadata": {
        "colab": {
          "base_uri": "https://localhost:8080/",
          "height": 300
        },
        "id": "wyiRa1xoLLTz",
        "outputId": "8734e470-78db-4dc9-fa9c-4b42bcb92f5c"
      },
      "execution_count": null,
      "outputs": [
        {
          "output_type": "execute_result",
          "data": {
            "text/plain": [
              "<sklearn.metrics._plot.confusion_matrix.ConfusionMatrixDisplay at 0x7f9932a78790>"
            ]
          },
          "metadata": {},
          "execution_count": 67
        },
        {
          "output_type": "display_data",
          "data": {
            "text/plain": [
              "<Figure size 432x288 with 2 Axes>"
            ],
            "image/png": "[encoded data removed]"
          },
          "metadata": {
            "needs_background": "light"
          }
        }
      ]
    },
    {
      "cell_type": "markdown",
      "source": [
        "Con los resultados de la matriz de confusión se concluye que en el modelo de regresión logística se obtuvo:\n",
        "\n",
        "* 140  de las predicciones son verdaderos negativos.\n",
        "* 4 de de las predecciones son verdaderos positivos.   \n",
        "* 3 de las predecciones son falsos positivos.  \n",
        "* 40 de las predecciones son falsos negativos. \n",
        "\n"
      ],
      "metadata": {
        "id": "1NnkCgBrpTPu"
      }
    },
    {
      "cell_type": "code",
      "source": [
        "# Buena Predicción\n",
        "\n",
        "print(\"Puntajes regresión logística normalizando \\n\")\n",
        "print(\"Precisión:\", precision_score(y_test, y_pred2, average = None).round(3))\n",
        "print(\"Exactitud:\", accuracy_score(y_test, y_pred2).round(3))\n",
        "print(\"Sensibilidad:\", recall_score(y_test, y_pred2, average = None).round(3))\n",
        "print(\"Puntaje AUC:\", roc_auc_score(y_test, y_pred2p[:,1]).round(3))"
      ],
      "metadata": {
        "colab": {
          "base_uri": "https://localhost:8080/"
        },
        "id": "OviqR9cY2Jn0",
        "outputId": "79a98e76-ef43-40bc-fbfa-1ec6edcfe2a2"
      },
      "execution_count": null,
      "outputs": [
        {
          "output_type": "stream",
          "name": "stdout",
          "text": [
            "Puntajes regresión logística normalizando \n",
            "\n",
            "Precisión: [0.778 0.571]\n",
            "Exactitud: 0.77\n",
            "Sensibilidad: [0.979 0.091]\n",
            "Puntaje AUC: 0.787\n"
          ]
        }
      ]
    },
    {
      "cell_type": "markdown",
      "source": [
        "Del informe de las métricas del modelo se afirma lo siguiente: \n",
        "\n",
        "\n",
        "*   **Precisión:** El modelo clasifica el $77.8\\%$ de los datos correspondientes a **True** y el $57.1\\%$  de los datos correspondientes a **False** correctamente.\n",
        "*   **Exactitud:**  El modelo clasifica el $77\\%$ de los datos correctamente.\n",
        "*   **Sensibilidad:** El modelo clasifica el $97.9\\%$ de los datos como **True** y el $9.1\\%$  de los datos como **False**.\n",
        "*   **Puntaje AUC:** Hay un $78.7\\%$ de probabilidad que el modelo pueda distinguir entre **True** y **False**.\n",
        "\n",
        "\n"
      ],
      "metadata": {
        "id": "kmBO07ub2-U7"
      }
    },
    {
      "cell_type": "markdown",
      "source": [
        "## Conclusiones"
      ],
      "metadata": {
        "id": "7d3VHV3lvSUg"
      }
    },
    {
      "cell_type": "markdown",
      "source": [
        "A través de la regresión logística sugerida por `TPOT` se logró construir un modelo de predección con un puntaje de **AUC=** $0.785$. Aunque este puntaje es muy bueno se realizó una normalización de los datos, dando así un nuevo modelo con un puntaje **AUC=** $0.787$. El incremento es pequeño, pero es de suma importancia si se desea mejorar la capacidad de predección del modelo.\n",
        "\n",
        "De igual manera en el desarrollo del documento se evidencia que cada variable independiente influye notablemente en el comportamiento de la variable objetivo (**Donated**).\n",
        "\n"
      ],
      "metadata": {
        "id": "sdLGBwQ45Iwv"
      }
    }
  ],
  "metadata": {
    "colab": {
      "collapsed_sections": [
        "47hixA4RC5R2",
        "1zWlN0Qm9LC1",
        "WNXaCeZs9fvN",
        "4kCWIwYr7SYt",
        "VkJ2UJnF9SvS",
        "hguWH32r3pKs",
        "XanRJHNZ6ZC2",
        "r7qnq9gyymQZ",
        "C5Lcool2GCEf"
      ],
      "provenance": [],
      "include_colab_link": true
    },
    "kernelspec": {
      "display_name": "Python 3",
      "name": "python3"
    },
    "language_info": {
      "name": "python"
    }
  },
  "nbformat": 4,
  "nbformat_minor": 0
}